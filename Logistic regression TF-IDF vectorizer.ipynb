{
 "cells": [
  {
   "cell_type": "code",
   "execution_count": 2,
   "metadata": {},
   "outputs": [],
   "source": [
    "import pandas as pd\n",
    "import numpy as np\n",
    "from sklearn.model_selection import train_test_split\n",
    "import nltk as nltk\n",
    "import nltk.corpus  \n",
    "import re\n",
    "import matplotlib.pyplot as plt\n",
    "\n",
    "from sklearn.metrics import roc_curve, auc, roc_auc_score\n",
    "from sklearn.feature_extraction.text import CountVectorizer, HashingVectorizer, TfidfTransformer, TfidfVectorizer\n",
    "from sklearn.linear_model import LogisticRegression, SGDClassifier\n",
    "from sklearn import metrics\n",
    "from sklearn.metrics import classification_report, confusion_matrix, accuracy_score\n",
    "from sklearn.ensemble import RandomForestClassifier\n",
    "\n",
    "import sys\n",
    "import time"
   ]
  },
  {
   "cell_type": "markdown",
   "metadata": {},
   "source": [
    "# Setting up our Data"
   ]
  },
  {
   "cell_type": "code",
   "execution_count": 3,
   "metadata": {},
   "outputs": [],
   "source": [
    "df = pd.read_csv(\"Food_Inspections.csv\")"
   ]
  },
  {
   "cell_type": "code",
   "execution_count": 4,
   "metadata": {},
   "outputs": [],
   "source": [
    "df = df.dropna()"
   ]
  },
  {
   "cell_type": "code",
   "execution_count": 5,
   "metadata": {},
   "outputs": [
    {
     "data": {
      "text/html": [
       "<div>\n",
       "<style scoped>\n",
       "    .dataframe tbody tr th:only-of-type {\n",
       "        vertical-align: middle;\n",
       "    }\n",
       "\n",
       "    .dataframe tbody tr th {\n",
       "        vertical-align: top;\n",
       "    }\n",
       "\n",
       "    .dataframe thead th {\n",
       "        text-align: right;\n",
       "    }\n",
       "</style>\n",
       "<table border=\"1\" class=\"dataframe\">\n",
       "  <thead>\n",
       "    <tr style=\"text-align: right;\">\n",
       "      <th></th>\n",
       "      <th>Inspection ID</th>\n",
       "      <th>DBA Name</th>\n",
       "      <th>AKA Name</th>\n",
       "      <th>License #</th>\n",
       "      <th>Facility Type</th>\n",
       "      <th>Risk</th>\n",
       "      <th>Address</th>\n",
       "      <th>City</th>\n",
       "      <th>State</th>\n",
       "      <th>Zip</th>\n",
       "      <th>Inspection Date</th>\n",
       "      <th>Inspection Type</th>\n",
       "      <th>Results</th>\n",
       "      <th>Violations</th>\n",
       "      <th>Latitude</th>\n",
       "      <th>Longitude</th>\n",
       "      <th>Location</th>\n",
       "    </tr>\n",
       "  </thead>\n",
       "  <tbody>\n",
       "    <tr>\n",
       "      <td>33</td>\n",
       "      <td>2360021</td>\n",
       "      <td>I LOVE SUSHI</td>\n",
       "      <td>I LOVE SUSHI</td>\n",
       "      <td>2594986.0</td>\n",
       "      <td>Restaurant</td>\n",
       "      <td>Risk 1 (High)</td>\n",
       "      <td>233 N MICHIGAN AVE</td>\n",
       "      <td>CHICAGO</td>\n",
       "      <td>IL</td>\n",
       "      <td>60601.0</td>\n",
       "      <td>02/06/2020</td>\n",
       "      <td>Canvass</td>\n",
       "      <td>Fail</td>\n",
       "      <td>10. ADEQUATE HANDWASHING SINKS PROPERLY SUPPLI...</td>\n",
       "      <td>41.886567</td>\n",
       "      <td>-87.624385</td>\n",
       "      <td>(-87.62438467059714, 41.886567370886944)</td>\n",
       "    </tr>\n",
       "    <tr>\n",
       "      <td>45</td>\n",
       "      <td>2359627</td>\n",
       "      <td>BABA'S VILLAGE</td>\n",
       "      <td>BABA'S VILLAGE</td>\n",
       "      <td>2684586.0</td>\n",
       "      <td>Restaurant</td>\n",
       "      <td>Risk 1 (High)</td>\n",
       "      <td>100 W RANDOLPH ST</td>\n",
       "      <td>CHICAGO</td>\n",
       "      <td>IL</td>\n",
       "      <td>60601.0</td>\n",
       "      <td>01/30/2020</td>\n",
       "      <td>Canvass</td>\n",
       "      <td>Pass w/ Conditions</td>\n",
       "      <td>2. CITY OF CHICAGO FOOD SERVICE SANITATION CER...</td>\n",
       "      <td>41.884586</td>\n",
       "      <td>-87.631010</td>\n",
       "      <td>(-87.63101044588599, 41.88458626715456)</td>\n",
       "    </tr>\n",
       "    <tr>\n",
       "      <td>61</td>\n",
       "      <td>2356815</td>\n",
       "      <td>SUBWAY</td>\n",
       "      <td>SUBWAY</td>\n",
       "      <td>2516813.0</td>\n",
       "      <td>Restaurant</td>\n",
       "      <td>Risk 1 (High)</td>\n",
       "      <td>4036 N NARRAGANSETT</td>\n",
       "      <td>CHICAGO</td>\n",
       "      <td>IL</td>\n",
       "      <td>60634.0</td>\n",
       "      <td>01/16/2020</td>\n",
       "      <td>Canvass</td>\n",
       "      <td>Pass</td>\n",
       "      <td>55. PHYSICAL FACILITIES INSTALLED, MAINTAINED ...</td>\n",
       "      <td>41.954073</td>\n",
       "      <td>-87.786743</td>\n",
       "      <td>(-87.78674347222507, 41.95407306311155)</td>\n",
       "    </tr>\n",
       "    <tr>\n",
       "      <td>66</td>\n",
       "      <td>2356510</td>\n",
       "      <td>HAILEY'S HOAGIES</td>\n",
       "      <td>HAILEY'S HOAGIES</td>\n",
       "      <td>2583295.0</td>\n",
       "      <td>Restaurant</td>\n",
       "      <td>Risk 1 (High)</td>\n",
       "      <td>1055 W 63RD ST</td>\n",
       "      <td>CHICAGO</td>\n",
       "      <td>IL</td>\n",
       "      <td>60621.0</td>\n",
       "      <td>01/10/2020</td>\n",
       "      <td>Canvass</td>\n",
       "      <td>Fail</td>\n",
       "      <td>1. PERSON IN CHARGE PRESENT, DEMONSTRATES KNOW...</td>\n",
       "      <td>41.779537</td>\n",
       "      <td>-87.651917</td>\n",
       "      <td>(-87.65191733069446, 41.779536944269374)</td>\n",
       "    </tr>\n",
       "    <tr>\n",
       "      <td>70</td>\n",
       "      <td>2356434</td>\n",
       "      <td>SIMPLY THALIA</td>\n",
       "      <td>SIMPLY THALIA</td>\n",
       "      <td>2059952.0</td>\n",
       "      <td>Restaurant</td>\n",
       "      <td>Risk 1 (High)</td>\n",
       "      <td>108 N STATE ST</td>\n",
       "      <td>CHICAGO</td>\n",
       "      <td>IL</td>\n",
       "      <td>60602.0</td>\n",
       "      <td>01/09/2020</td>\n",
       "      <td>Canvass</td>\n",
       "      <td>Fail</td>\n",
       "      <td>1. PERSON IN CHARGE PRESENT, DEMONSTRATES KNOW...</td>\n",
       "      <td>41.883423</td>\n",
       "      <td>-87.628022</td>\n",
       "      <td>(-87.62802165207536, 41.88342263701488)</td>\n",
       "    </tr>\n",
       "  </tbody>\n",
       "</table>\n",
       "</div>"
      ],
      "text/plain": [
       "    Inspection ID          DBA Name          AKA Name  License #  \\\n",
       "33        2360021      I LOVE SUSHI      I LOVE SUSHI  2594986.0   \n",
       "45        2359627    BABA'S VILLAGE    BABA'S VILLAGE  2684586.0   \n",
       "61        2356815            SUBWAY            SUBWAY  2516813.0   \n",
       "66        2356510  HAILEY'S HOAGIES  HAILEY'S HOAGIES  2583295.0   \n",
       "70        2356434     SIMPLY THALIA     SIMPLY THALIA  2059952.0   \n",
       "\n",
       "   Facility Type           Risk               Address     City State      Zip  \\\n",
       "33    Restaurant  Risk 1 (High)   233 N MICHIGAN AVE   CHICAGO    IL  60601.0   \n",
       "45    Restaurant  Risk 1 (High)    100 W RANDOLPH ST   CHICAGO    IL  60601.0   \n",
       "61    Restaurant  Risk 1 (High)  4036 N NARRAGANSETT   CHICAGO    IL  60634.0   \n",
       "66    Restaurant  Risk 1 (High)       1055 W 63RD ST   CHICAGO    IL  60621.0   \n",
       "70    Restaurant  Risk 1 (High)       108 N STATE ST   CHICAGO    IL  60602.0   \n",
       "\n",
       "   Inspection Date Inspection Type             Results  \\\n",
       "33      02/06/2020         Canvass                Fail   \n",
       "45      01/30/2020         Canvass  Pass w/ Conditions   \n",
       "61      01/16/2020         Canvass                Pass   \n",
       "66      01/10/2020         Canvass                Fail   \n",
       "70      01/09/2020         Canvass                Fail   \n",
       "\n",
       "                                           Violations   Latitude  Longitude  \\\n",
       "33  10. ADEQUATE HANDWASHING SINKS PROPERLY SUPPLI...  41.886567 -87.624385   \n",
       "45  2. CITY OF CHICAGO FOOD SERVICE SANITATION CER...  41.884586 -87.631010   \n",
       "61  55. PHYSICAL FACILITIES INSTALLED, MAINTAINED ...  41.954073 -87.786743   \n",
       "66  1. PERSON IN CHARGE PRESENT, DEMONSTRATES KNOW...  41.779537 -87.651917   \n",
       "70  1. PERSON IN CHARGE PRESENT, DEMONSTRATES KNOW...  41.883423 -87.628022   \n",
       "\n",
       "                                    Location  \n",
       "33  (-87.62438467059714, 41.886567370886944)  \n",
       "45   (-87.63101044588599, 41.88458626715456)  \n",
       "61   (-87.78674347222507, 41.95407306311155)  \n",
       "66  (-87.65191733069446, 41.779536944269374)  \n",
       "70   (-87.62802165207536, 41.88342263701488)  "
      ]
     },
     "execution_count": 5,
     "metadata": {},
     "output_type": "execute_result"
    }
   ],
   "source": [
    "df.head()"
   ]
  },
  {
   "cell_type": "code",
   "execution_count": 6,
   "metadata": {},
   "outputs": [
    {
     "name": "stdout",
     "output_type": "stream",
     "text": [
      "<class 'pandas.core.frame.DataFrame'>\n",
      "Int64Index: 153313 entries, 33 to 211347\n",
      "Data columns (total 17 columns):\n",
      "Inspection ID      153313 non-null int64\n",
      "DBA Name           153313 non-null object\n",
      "AKA Name           153313 non-null object\n",
      "License #          153313 non-null float64\n",
      "Facility Type      153313 non-null object\n",
      "Risk               153313 non-null object\n",
      "Address            153313 non-null object\n",
      "City               153313 non-null object\n",
      "State              153313 non-null object\n",
      "Zip                153313 non-null float64\n",
      "Inspection Date    153313 non-null object\n",
      "Inspection Type    153313 non-null object\n",
      "Results            153313 non-null object\n",
      "Violations         153313 non-null object\n",
      "Latitude           153313 non-null float64\n",
      "Longitude          153313 non-null float64\n",
      "Location           153313 non-null object\n",
      "dtypes: float64(4), int64(1), object(12)\n",
      "memory usage: 21.1+ MB\n"
     ]
    }
   ],
   "source": [
    "df.info()"
   ]
  },
  {
   "cell_type": "code",
   "execution_count": 7,
   "metadata": {},
   "outputs": [
    {
     "data": {
      "text/plain": [
       "(153313, 17)"
      ]
     },
     "execution_count": 7,
     "metadata": {},
     "output_type": "execute_result"
    }
   ],
   "source": [
    "df.shape"
   ]
  },
  {
   "cell_type": "code",
   "execution_count": 8,
   "metadata": {},
   "outputs": [],
   "source": [
    "df_violations = df[['Violations', 'Results']]"
   ]
  },
  {
   "cell_type": "code",
   "execution_count": 9,
   "metadata": {},
   "outputs": [
    {
     "data": {
      "text/plain": [
       "(153313, 2)"
      ]
     },
     "execution_count": 9,
     "metadata": {},
     "output_type": "execute_result"
    }
   ],
   "source": [
    "df_violations.shape"
   ]
  },
  {
   "cell_type": "code",
   "execution_count": 10,
   "metadata": {},
   "outputs": [
    {
     "data": {
      "text/html": [
       "<div>\n",
       "<style scoped>\n",
       "    .dataframe tbody tr th:only-of-type {\n",
       "        vertical-align: middle;\n",
       "    }\n",
       "\n",
       "    .dataframe tbody tr th {\n",
       "        vertical-align: top;\n",
       "    }\n",
       "\n",
       "    .dataframe thead th {\n",
       "        text-align: right;\n",
       "    }\n",
       "</style>\n",
       "<table border=\"1\" class=\"dataframe\">\n",
       "  <thead>\n",
       "    <tr style=\"text-align: right;\">\n",
       "      <th></th>\n",
       "      <th>Violations</th>\n",
       "      <th>Results</th>\n",
       "    </tr>\n",
       "  </thead>\n",
       "  <tbody>\n",
       "    <tr>\n",
       "      <td>33</td>\n",
       "      <td>10. ADEQUATE HANDWASHING SINKS PROPERLY SUPPLI...</td>\n",
       "      <td>Fail</td>\n",
       "    </tr>\n",
       "    <tr>\n",
       "      <td>45</td>\n",
       "      <td>2. CITY OF CHICAGO FOOD SERVICE SANITATION CER...</td>\n",
       "      <td>Pass w/ Conditions</td>\n",
       "    </tr>\n",
       "    <tr>\n",
       "      <td>61</td>\n",
       "      <td>55. PHYSICAL FACILITIES INSTALLED, MAINTAINED ...</td>\n",
       "      <td>Pass</td>\n",
       "    </tr>\n",
       "    <tr>\n",
       "      <td>66</td>\n",
       "      <td>1. PERSON IN CHARGE PRESENT, DEMONSTRATES KNOW...</td>\n",
       "      <td>Fail</td>\n",
       "    </tr>\n",
       "    <tr>\n",
       "      <td>70</td>\n",
       "      <td>1. PERSON IN CHARGE PRESENT, DEMONSTRATES KNOW...</td>\n",
       "      <td>Fail</td>\n",
       "    </tr>\n",
       "  </tbody>\n",
       "</table>\n",
       "</div>"
      ],
      "text/plain": [
       "                                           Violations             Results\n",
       "33  10. ADEQUATE HANDWASHING SINKS PROPERLY SUPPLI...                Fail\n",
       "45  2. CITY OF CHICAGO FOOD SERVICE SANITATION CER...  Pass w/ Conditions\n",
       "61  55. PHYSICAL FACILITIES INSTALLED, MAINTAINED ...                Pass\n",
       "66  1. PERSON IN CHARGE PRESENT, DEMONSTRATES KNOW...                Fail\n",
       "70  1. PERSON IN CHARGE PRESENT, DEMONSTRATES KNOW...                Fail"
      ]
     },
     "execution_count": 10,
     "metadata": {},
     "output_type": "execute_result"
    }
   ],
   "source": [
    "df_violations.head()"
   ]
  },
  {
   "cell_type": "code",
   "execution_count": 11,
   "metadata": {},
   "outputs": [
    {
     "data": {
      "text/plain": [
       "Pass                  84663\n",
       "Fail                  37035\n",
       "Pass w/ Conditions    31039\n",
       "No Entry                485\n",
       "Not Ready                62\n",
       "Out of Business          29\n",
       "Name: Results, dtype: int64"
      ]
     },
     "execution_count": 11,
     "metadata": {},
     "output_type": "execute_result"
    }
   ],
   "source": [
    "df_violations['Results'].value_counts()"
   ]
  },
  {
   "cell_type": "code",
   "execution_count": 12,
   "metadata": {},
   "outputs": [],
   "source": [
    "def comments_extraction(violation_comments):\n",
    "    only_comments = \"\"\n",
    "    if type(violation_comments) == str:\n",
    "        violation_comments = violation_comments.split(' | ')\n",
    "        for v in violation_comments:\n",
    "            v = v.split('Comments:')\n",
    "            if len(v) == 2:\n",
    "                only_comments += v[1]\n",
    "    return only_comments"
   ]
  },
  {
   "cell_type": "code",
   "execution_count": 13,
   "metadata": {},
   "outputs": [
    {
     "name": "stderr",
     "output_type": "stream",
     "text": [
      "/opt/anaconda3/lib/python3.7/site-packages/ipykernel_launcher.py:1: SettingWithCopyWarning: \n",
      "A value is trying to be set on a copy of a slice from a DataFrame.\n",
      "Try using .loc[row_indexer,col_indexer] = value instead\n",
      "\n",
      "See the caveats in the documentation: http://pandas.pydata.org/pandas-docs/stable/user_guide/indexing.html#returning-a-view-versus-a-copy\n",
      "  \"\"\"Entry point for launching an IPython kernel.\n"
     ]
    }
   ],
   "source": [
    "df_violations[\"comments\"] = df_violations[\"Violations\"].apply(comments_extraction)"
   ]
  },
  {
   "cell_type": "code",
   "execution_count": 14,
   "metadata": {},
   "outputs": [
    {
     "data": {
      "text/html": [
       "<div>\n",
       "<style scoped>\n",
       "    .dataframe tbody tr th:only-of-type {\n",
       "        vertical-align: middle;\n",
       "    }\n",
       "\n",
       "    .dataframe tbody tr th {\n",
       "        vertical-align: top;\n",
       "    }\n",
       "\n",
       "    .dataframe thead th {\n",
       "        text-align: right;\n",
       "    }\n",
       "</style>\n",
       "<table border=\"1\" class=\"dataframe\">\n",
       "  <thead>\n",
       "    <tr style=\"text-align: right;\">\n",
       "      <th></th>\n",
       "      <th>Violations</th>\n",
       "      <th>Results</th>\n",
       "      <th>comments</th>\n",
       "    </tr>\n",
       "  </thead>\n",
       "  <tbody>\n",
       "    <tr>\n",
       "      <td>33</td>\n",
       "      <td>10. ADEQUATE HANDWASHING SINKS PROPERLY SUPPLI...</td>\n",
       "      <td>Fail</td>\n",
       "      <td>FOUND NO HANDWASHING SIGNAGE AT HAND SINK, IN...</td>\n",
       "    </tr>\n",
       "    <tr>\n",
       "      <td>45</td>\n",
       "      <td>2. CITY OF CHICAGO FOOD SERVICE SANITATION CER...</td>\n",
       "      <td>Pass w/ Conditions</td>\n",
       "      <td>THE PERSON IN CHARGE DOES NOT HAVE A CITY OF ...</td>\n",
       "    </tr>\n",
       "    <tr>\n",
       "      <td>61</td>\n",
       "      <td>55. PHYSICAL FACILITIES INSTALLED, MAINTAINED ...</td>\n",
       "      <td>Pass</td>\n",
       "      <td>INSTRUCTED TO DETAIL CLEAN AND MAINTAIN FLOOR...</td>\n",
       "    </tr>\n",
       "    <tr>\n",
       "      <td>66</td>\n",
       "      <td>1. PERSON IN CHARGE PRESENT, DEMONSTRATES KNOW...</td>\n",
       "      <td>Fail</td>\n",
       "      <td>PIC DOESN'T HAVE A FOOD MANAGERS CERTIFICATE....</td>\n",
       "    </tr>\n",
       "    <tr>\n",
       "      <td>70</td>\n",
       "      <td>1. PERSON IN CHARGE PRESENT, DEMONSTRATES KNOW...</td>\n",
       "      <td>Fail</td>\n",
       "      <td>NO DESIGNATED PERSON IN CHARGE. OBSERVED NO F...</td>\n",
       "    </tr>\n",
       "  </tbody>\n",
       "</table>\n",
       "</div>"
      ],
      "text/plain": [
       "                                           Violations             Results  \\\n",
       "33  10. ADEQUATE HANDWASHING SINKS PROPERLY SUPPLI...                Fail   \n",
       "45  2. CITY OF CHICAGO FOOD SERVICE SANITATION CER...  Pass w/ Conditions   \n",
       "61  55. PHYSICAL FACILITIES INSTALLED, MAINTAINED ...                Pass   \n",
       "66  1. PERSON IN CHARGE PRESENT, DEMONSTRATES KNOW...                Fail   \n",
       "70  1. PERSON IN CHARGE PRESENT, DEMONSTRATES KNOW...                Fail   \n",
       "\n",
       "                                             comments  \n",
       "33   FOUND NO HANDWASHING SIGNAGE AT HAND SINK, IN...  \n",
       "45   THE PERSON IN CHARGE DOES NOT HAVE A CITY OF ...  \n",
       "61   INSTRUCTED TO DETAIL CLEAN AND MAINTAIN FLOOR...  \n",
       "66   PIC DOESN'T HAVE A FOOD MANAGERS CERTIFICATE....  \n",
       "70   NO DESIGNATED PERSON IN CHARGE. OBSERVED NO F...  "
      ]
     },
     "execution_count": 14,
     "metadata": {},
     "output_type": "execute_result"
    }
   ],
   "source": [
    "df_violations.head()"
   ]
  },
  {
   "cell_type": "code",
   "execution_count": 15,
   "metadata": {},
   "outputs": [
    {
     "name": "stderr",
     "output_type": "stream",
     "text": [
      "/opt/anaconda3/lib/python3.7/site-packages/ipykernel_launcher.py:1: SettingWithCopyWarning: \n",
      "A value is trying to be set on a copy of a slice from a DataFrame.\n",
      "Try using .loc[row_indexer,col_indexer] = value instead\n",
      "\n",
      "See the caveats in the documentation: http://pandas.pydata.org/pandas-docs/stable/user_guide/indexing.html#returning-a-view-versus-a-copy\n",
      "  \"\"\"Entry point for launching an IPython kernel.\n"
     ]
    }
   ],
   "source": [
    "df_violations['flag'] = df_violations['Results'].map({'Fail':0, 'Pass':1, 'Out of Business':2,'Pass w/ Conditions':3,'No Entry':4,'Not Ready':5})"
   ]
  },
  {
   "cell_type": "code",
   "execution_count": 16,
   "metadata": {},
   "outputs": [
    {
     "data": {
      "text/html": [
       "<div>\n",
       "<style scoped>\n",
       "    .dataframe tbody tr th:only-of-type {\n",
       "        vertical-align: middle;\n",
       "    }\n",
       "\n",
       "    .dataframe tbody tr th {\n",
       "        vertical-align: top;\n",
       "    }\n",
       "\n",
       "    .dataframe thead th {\n",
       "        text-align: right;\n",
       "    }\n",
       "</style>\n",
       "<table border=\"1\" class=\"dataframe\">\n",
       "  <thead>\n",
       "    <tr style=\"text-align: right;\">\n",
       "      <th></th>\n",
       "      <th>Violations</th>\n",
       "      <th>Results</th>\n",
       "      <th>comments</th>\n",
       "      <th>flag</th>\n",
       "    </tr>\n",
       "  </thead>\n",
       "  <tbody>\n",
       "    <tr>\n",
       "      <td>33</td>\n",
       "      <td>10. ADEQUATE HANDWASHING SINKS PROPERLY SUPPLI...</td>\n",
       "      <td>Fail</td>\n",
       "      <td>FOUND NO HANDWASHING SIGNAGE AT HAND SINK, IN...</td>\n",
       "      <td>0</td>\n",
       "    </tr>\n",
       "    <tr>\n",
       "      <td>45</td>\n",
       "      <td>2. CITY OF CHICAGO FOOD SERVICE SANITATION CER...</td>\n",
       "      <td>Pass w/ Conditions</td>\n",
       "      <td>THE PERSON IN CHARGE DOES NOT HAVE A CITY OF ...</td>\n",
       "      <td>3</td>\n",
       "    </tr>\n",
       "    <tr>\n",
       "      <td>61</td>\n",
       "      <td>55. PHYSICAL FACILITIES INSTALLED, MAINTAINED ...</td>\n",
       "      <td>Pass</td>\n",
       "      <td>INSTRUCTED TO DETAIL CLEAN AND MAINTAIN FLOOR...</td>\n",
       "      <td>1</td>\n",
       "    </tr>\n",
       "    <tr>\n",
       "      <td>66</td>\n",
       "      <td>1. PERSON IN CHARGE PRESENT, DEMONSTRATES KNOW...</td>\n",
       "      <td>Fail</td>\n",
       "      <td>PIC DOESN'T HAVE A FOOD MANAGERS CERTIFICATE....</td>\n",
       "      <td>0</td>\n",
       "    </tr>\n",
       "    <tr>\n",
       "      <td>70</td>\n",
       "      <td>1. PERSON IN CHARGE PRESENT, DEMONSTRATES KNOW...</td>\n",
       "      <td>Fail</td>\n",
       "      <td>NO DESIGNATED PERSON IN CHARGE. OBSERVED NO F...</td>\n",
       "      <td>0</td>\n",
       "    </tr>\n",
       "  </tbody>\n",
       "</table>\n",
       "</div>"
      ],
      "text/plain": [
       "                                           Violations             Results  \\\n",
       "33  10. ADEQUATE HANDWASHING SINKS PROPERLY SUPPLI...                Fail   \n",
       "45  2. CITY OF CHICAGO FOOD SERVICE SANITATION CER...  Pass w/ Conditions   \n",
       "61  55. PHYSICAL FACILITIES INSTALLED, MAINTAINED ...                Pass   \n",
       "66  1. PERSON IN CHARGE PRESENT, DEMONSTRATES KNOW...                Fail   \n",
       "70  1. PERSON IN CHARGE PRESENT, DEMONSTRATES KNOW...                Fail   \n",
       "\n",
       "                                             comments  flag  \n",
       "33   FOUND NO HANDWASHING SIGNAGE AT HAND SINK, IN...     0  \n",
       "45   THE PERSON IN CHARGE DOES NOT HAVE A CITY OF ...     3  \n",
       "61   INSTRUCTED TO DETAIL CLEAN AND MAINTAIN FLOOR...     1  \n",
       "66   PIC DOESN'T HAVE A FOOD MANAGERS CERTIFICATE....     0  \n",
       "70   NO DESIGNATED PERSON IN CHARGE. OBSERVED NO F...     0  "
      ]
     },
     "execution_count": 16,
     "metadata": {},
     "output_type": "execute_result"
    }
   ],
   "source": [
    "df_violations.head()"
   ]
  },
  {
   "cell_type": "code",
   "execution_count": 17,
   "metadata": {},
   "outputs": [],
   "source": [
    "df_final = df_violations[['comments','flag']]"
   ]
  },
  {
   "cell_type": "code",
   "execution_count": 18,
   "metadata": {},
   "outputs": [],
   "source": [
    "df_final = df_final.loc[df_final['flag'].isin([1,0])]"
   ]
  },
  {
   "cell_type": "code",
   "execution_count": 19,
   "metadata": {},
   "outputs": [
    {
     "data": {
      "text/html": [
       "<div>\n",
       "<style scoped>\n",
       "    .dataframe tbody tr th:only-of-type {\n",
       "        vertical-align: middle;\n",
       "    }\n",
       "\n",
       "    .dataframe tbody tr th {\n",
       "        vertical-align: top;\n",
       "    }\n",
       "\n",
       "    .dataframe thead th {\n",
       "        text-align: right;\n",
       "    }\n",
       "</style>\n",
       "<table border=\"1\" class=\"dataframe\">\n",
       "  <thead>\n",
       "    <tr style=\"text-align: right;\">\n",
       "      <th></th>\n",
       "      <th>comments</th>\n",
       "      <th>flag</th>\n",
       "    </tr>\n",
       "  </thead>\n",
       "  <tbody>\n",
       "    <tr>\n",
       "      <td>33</td>\n",
       "      <td>FOUND NO HANDWASHING SIGNAGE AT HAND SINK, IN...</td>\n",
       "      <td>0</td>\n",
       "    </tr>\n",
       "    <tr>\n",
       "      <td>61</td>\n",
       "      <td>INSTRUCTED TO DETAIL CLEAN AND MAINTAIN FLOOR...</td>\n",
       "      <td>1</td>\n",
       "    </tr>\n",
       "    <tr>\n",
       "      <td>66</td>\n",
       "      <td>PIC DOESN'T HAVE A FOOD MANAGERS CERTIFICATE....</td>\n",
       "      <td>0</td>\n",
       "    </tr>\n",
       "    <tr>\n",
       "      <td>70</td>\n",
       "      <td>NO DESIGNATED PERSON IN CHARGE. OBSERVED NO F...</td>\n",
       "      <td>0</td>\n",
       "    </tr>\n",
       "    <tr>\n",
       "      <td>71</td>\n",
       "      <td>OBSERVED NO WRITTEN EMPLOYEE HEALTH POLICY ON...</td>\n",
       "      <td>0</td>\n",
       "    </tr>\n",
       "  </tbody>\n",
       "</table>\n",
       "</div>"
      ],
      "text/plain": [
       "                                             comments  flag\n",
       "33   FOUND NO HANDWASHING SIGNAGE AT HAND SINK, IN...     0\n",
       "61   INSTRUCTED TO DETAIL CLEAN AND MAINTAIN FLOOR...     1\n",
       "66   PIC DOESN'T HAVE A FOOD MANAGERS CERTIFICATE....     0\n",
       "70   NO DESIGNATED PERSON IN CHARGE. OBSERVED NO F...     0\n",
       "71   OBSERVED NO WRITTEN EMPLOYEE HEALTH POLICY ON...     0"
      ]
     },
     "execution_count": 19,
     "metadata": {},
     "output_type": "execute_result"
    }
   ],
   "source": [
    "df_final.head()"
   ]
  },
  {
   "cell_type": "markdown",
   "metadata": {},
   "source": [
    "# Processing the text from the Comments"
   ]
  },
  {
   "cell_type": "code",
   "execution_count": 20,
   "metadata": {},
   "outputs": [
    {
     "name": "stdout",
     "output_type": "stream",
     "text": [
      "(121698,)\n",
      "(121698,)\n"
     ]
    }
   ],
   "source": [
    "# defining our predictor and response variable\n",
    "X = df_final.comments\n",
    "y = df_final.flag\n",
    "print(X.shape)\n",
    "print(y.shape)"
   ]
  },
  {
   "cell_type": "code",
   "execution_count": 21,
   "metadata": {},
   "outputs": [
    {
     "name": "stdout",
     "output_type": "stream",
     "text": [
      "(91273,)\n",
      "(91273,)\n",
      "(30425,)\n",
      "(30425,)\n"
     ]
    }
   ],
   "source": [
    "# Splitting our data into train and test\n",
    "X_train, X_test, y_train, y_test = train_test_split(X, y, random_state=43)\n",
    "print(X_train.shape)\n",
    "print(y_train.shape)\n",
    "print(X_test.shape)\n",
    "print(y_test.shape)"
   ]
  },
  {
   "cell_type": "markdown",
   "metadata": {},
   "source": [
    "# CountVectorizer"
   ]
  },
  {
   "cell_type": "code",
   "execution_count": 22,
   "metadata": {},
   "outputs": [
    {
     "data": {
      "text/plain": [
       "(91273, 14436)"
      ]
     },
     "execution_count": 22,
     "metadata": {},
     "output_type": "execute_result"
    }
   ],
   "source": [
    "# Transforming/vectorizing train data using CountVectorizer\n",
    "countvectorizer = CountVectorizer(stop_words = 'english',min_df=2,max_df=0.5)\n",
    "X_train_cv = countvectorizer.fit_transform(X_train)\n",
    "X_train_cv.shape"
   ]
  },
  {
   "cell_type": "code",
   "execution_count": 23,
   "metadata": {},
   "outputs": [
    {
     "data": {
      "text/html": [
       "<div>\n",
       "<style scoped>\n",
       "    .dataframe tbody tr th:only-of-type {\n",
       "        vertical-align: middle;\n",
       "    }\n",
       "\n",
       "    .dataframe tbody tr th {\n",
       "        vertical-align: top;\n",
       "    }\n",
       "\n",
       "    .dataframe thead th {\n",
       "        text-align: right;\n",
       "    }\n",
       "</style>\n",
       "<table border=\"1\" class=\"dataframe\">\n",
       "  <thead>\n",
       "    <tr style=\"text-align: right;\">\n",
       "      <th></th>\n",
       "      <th>00</th>\n",
       "      <th>000</th>\n",
       "      <th>0005a</th>\n",
       "      <th>001</th>\n",
       "      <th>002</th>\n",
       "      <th>003</th>\n",
       "      <th>0030</th>\n",
       "      <th>00367</th>\n",
       "      <th>004</th>\n",
       "      <th>005</th>\n",
       "      <th>...</th>\n",
       "      <th>zipcode</th>\n",
       "      <th>ziploc</th>\n",
       "      <th>ziplock</th>\n",
       "      <th>zone</th>\n",
       "      <th>zucchini</th>\n",
       "      <th>½ed</th>\n",
       "      <th>½f</th>\n",
       "      <th>½o</th>\n",
       "      <th>½time</th>\n",
       "      <th>½ï</th>\n",
       "    </tr>\n",
       "  </thead>\n",
       "  <tbody>\n",
       "    <tr>\n",
       "      <td>0</td>\n",
       "      <td>0</td>\n",
       "      <td>0</td>\n",
       "      <td>0</td>\n",
       "      <td>0</td>\n",
       "      <td>0</td>\n",
       "      <td>0</td>\n",
       "      <td>0</td>\n",
       "      <td>0</td>\n",
       "      <td>0</td>\n",
       "      <td>0</td>\n",
       "      <td>...</td>\n",
       "      <td>0</td>\n",
       "      <td>0</td>\n",
       "      <td>0</td>\n",
       "      <td>0</td>\n",
       "      <td>0</td>\n",
       "      <td>0</td>\n",
       "      <td>0</td>\n",
       "      <td>0</td>\n",
       "      <td>0</td>\n",
       "      <td>0</td>\n",
       "    </tr>\n",
       "    <tr>\n",
       "      <td>1</td>\n",
       "      <td>0</td>\n",
       "      <td>0</td>\n",
       "      <td>0</td>\n",
       "      <td>0</td>\n",
       "      <td>0</td>\n",
       "      <td>0</td>\n",
       "      <td>0</td>\n",
       "      <td>0</td>\n",
       "      <td>0</td>\n",
       "      <td>0</td>\n",
       "      <td>...</td>\n",
       "      <td>0</td>\n",
       "      <td>0</td>\n",
       "      <td>0</td>\n",
       "      <td>0</td>\n",
       "      <td>0</td>\n",
       "      <td>0</td>\n",
       "      <td>0</td>\n",
       "      <td>0</td>\n",
       "      <td>0</td>\n",
       "      <td>0</td>\n",
       "    </tr>\n",
       "    <tr>\n",
       "      <td>2</td>\n",
       "      <td>0</td>\n",
       "      <td>0</td>\n",
       "      <td>0</td>\n",
       "      <td>0</td>\n",
       "      <td>0</td>\n",
       "      <td>0</td>\n",
       "      <td>0</td>\n",
       "      <td>0</td>\n",
       "      <td>0</td>\n",
       "      <td>0</td>\n",
       "      <td>...</td>\n",
       "      <td>0</td>\n",
       "      <td>0</td>\n",
       "      <td>0</td>\n",
       "      <td>0</td>\n",
       "      <td>0</td>\n",
       "      <td>0</td>\n",
       "      <td>0</td>\n",
       "      <td>0</td>\n",
       "      <td>0</td>\n",
       "      <td>0</td>\n",
       "    </tr>\n",
       "    <tr>\n",
       "      <td>3</td>\n",
       "      <td>0</td>\n",
       "      <td>0</td>\n",
       "      <td>0</td>\n",
       "      <td>0</td>\n",
       "      <td>0</td>\n",
       "      <td>0</td>\n",
       "      <td>0</td>\n",
       "      <td>0</td>\n",
       "      <td>0</td>\n",
       "      <td>0</td>\n",
       "      <td>...</td>\n",
       "      <td>0</td>\n",
       "      <td>0</td>\n",
       "      <td>0</td>\n",
       "      <td>0</td>\n",
       "      <td>0</td>\n",
       "      <td>0</td>\n",
       "      <td>0</td>\n",
       "      <td>0</td>\n",
       "      <td>0</td>\n",
       "      <td>0</td>\n",
       "    </tr>\n",
       "    <tr>\n",
       "      <td>4</td>\n",
       "      <td>0</td>\n",
       "      <td>0</td>\n",
       "      <td>0</td>\n",
       "      <td>0</td>\n",
       "      <td>0</td>\n",
       "      <td>0</td>\n",
       "      <td>0</td>\n",
       "      <td>0</td>\n",
       "      <td>0</td>\n",
       "      <td>0</td>\n",
       "      <td>...</td>\n",
       "      <td>0</td>\n",
       "      <td>0</td>\n",
       "      <td>0</td>\n",
       "      <td>0</td>\n",
       "      <td>0</td>\n",
       "      <td>0</td>\n",
       "      <td>0</td>\n",
       "      <td>0</td>\n",
       "      <td>0</td>\n",
       "      <td>0</td>\n",
       "    </tr>\n",
       "    <tr>\n",
       "      <td>...</td>\n",
       "      <td>...</td>\n",
       "      <td>...</td>\n",
       "      <td>...</td>\n",
       "      <td>...</td>\n",
       "      <td>...</td>\n",
       "      <td>...</td>\n",
       "      <td>...</td>\n",
       "      <td>...</td>\n",
       "      <td>...</td>\n",
       "      <td>...</td>\n",
       "      <td>...</td>\n",
       "      <td>...</td>\n",
       "      <td>...</td>\n",
       "      <td>...</td>\n",
       "      <td>...</td>\n",
       "      <td>...</td>\n",
       "      <td>...</td>\n",
       "      <td>...</td>\n",
       "      <td>...</td>\n",
       "      <td>...</td>\n",
       "      <td>...</td>\n",
       "    </tr>\n",
       "    <tr>\n",
       "      <td>91268</td>\n",
       "      <td>0</td>\n",
       "      <td>0</td>\n",
       "      <td>0</td>\n",
       "      <td>0</td>\n",
       "      <td>0</td>\n",
       "      <td>0</td>\n",
       "      <td>0</td>\n",
       "      <td>0</td>\n",
       "      <td>0</td>\n",
       "      <td>0</td>\n",
       "      <td>...</td>\n",
       "      <td>0</td>\n",
       "      <td>0</td>\n",
       "      <td>0</td>\n",
       "      <td>0</td>\n",
       "      <td>0</td>\n",
       "      <td>0</td>\n",
       "      <td>0</td>\n",
       "      <td>0</td>\n",
       "      <td>0</td>\n",
       "      <td>0</td>\n",
       "    </tr>\n",
       "    <tr>\n",
       "      <td>91269</td>\n",
       "      <td>0</td>\n",
       "      <td>0</td>\n",
       "      <td>0</td>\n",
       "      <td>0</td>\n",
       "      <td>0</td>\n",
       "      <td>0</td>\n",
       "      <td>0</td>\n",
       "      <td>0</td>\n",
       "      <td>0</td>\n",
       "      <td>0</td>\n",
       "      <td>...</td>\n",
       "      <td>0</td>\n",
       "      <td>0</td>\n",
       "      <td>0</td>\n",
       "      <td>0</td>\n",
       "      <td>0</td>\n",
       "      <td>0</td>\n",
       "      <td>0</td>\n",
       "      <td>0</td>\n",
       "      <td>0</td>\n",
       "      <td>0</td>\n",
       "    </tr>\n",
       "    <tr>\n",
       "      <td>91270</td>\n",
       "      <td>0</td>\n",
       "      <td>0</td>\n",
       "      <td>0</td>\n",
       "      <td>0</td>\n",
       "      <td>0</td>\n",
       "      <td>0</td>\n",
       "      <td>0</td>\n",
       "      <td>0</td>\n",
       "      <td>0</td>\n",
       "      <td>0</td>\n",
       "      <td>...</td>\n",
       "      <td>0</td>\n",
       "      <td>0</td>\n",
       "      <td>0</td>\n",
       "      <td>0</td>\n",
       "      <td>0</td>\n",
       "      <td>0</td>\n",
       "      <td>0</td>\n",
       "      <td>0</td>\n",
       "      <td>0</td>\n",
       "      <td>0</td>\n",
       "    </tr>\n",
       "    <tr>\n",
       "      <td>91271</td>\n",
       "      <td>0</td>\n",
       "      <td>0</td>\n",
       "      <td>0</td>\n",
       "      <td>0</td>\n",
       "      <td>0</td>\n",
       "      <td>0</td>\n",
       "      <td>0</td>\n",
       "      <td>0</td>\n",
       "      <td>0</td>\n",
       "      <td>0</td>\n",
       "      <td>...</td>\n",
       "      <td>0</td>\n",
       "      <td>0</td>\n",
       "      <td>0</td>\n",
       "      <td>0</td>\n",
       "      <td>0</td>\n",
       "      <td>0</td>\n",
       "      <td>0</td>\n",
       "      <td>0</td>\n",
       "      <td>0</td>\n",
       "      <td>0</td>\n",
       "    </tr>\n",
       "    <tr>\n",
       "      <td>91272</td>\n",
       "      <td>0</td>\n",
       "      <td>0</td>\n",
       "      <td>0</td>\n",
       "      <td>0</td>\n",
       "      <td>0</td>\n",
       "      <td>0</td>\n",
       "      <td>0</td>\n",
       "      <td>0</td>\n",
       "      <td>0</td>\n",
       "      <td>0</td>\n",
       "      <td>...</td>\n",
       "      <td>0</td>\n",
       "      <td>0</td>\n",
       "      <td>0</td>\n",
       "      <td>0</td>\n",
       "      <td>0</td>\n",
       "      <td>0</td>\n",
       "      <td>0</td>\n",
       "      <td>0</td>\n",
       "      <td>0</td>\n",
       "      <td>0</td>\n",
       "    </tr>\n",
       "  </tbody>\n",
       "</table>\n",
       "<p>91273 rows × 14436 columns</p>\n",
       "</div>"
      ],
      "text/plain": [
       "       00  000  0005a  001  002  003  0030  00367  004  005  ...  zipcode  \\\n",
       "0       0    0      0    0    0    0     0      0    0    0  ...        0   \n",
       "1       0    0      0    0    0    0     0      0    0    0  ...        0   \n",
       "2       0    0      0    0    0    0     0      0    0    0  ...        0   \n",
       "3       0    0      0    0    0    0     0      0    0    0  ...        0   \n",
       "4       0    0      0    0    0    0     0      0    0    0  ...        0   \n",
       "...    ..  ...    ...  ...  ...  ...   ...    ...  ...  ...  ...      ...   \n",
       "91268   0    0      0    0    0    0     0      0    0    0  ...        0   \n",
       "91269   0    0      0    0    0    0     0      0    0    0  ...        0   \n",
       "91270   0    0      0    0    0    0     0      0    0    0  ...        0   \n",
       "91271   0    0      0    0    0    0     0      0    0    0  ...        0   \n",
       "91272   0    0      0    0    0    0     0      0    0    0  ...        0   \n",
       "\n",
       "       ziploc  ziplock  zone  zucchini  ½ed  ½f  ½o  ½time  ½ï  \n",
       "0           0        0     0         0    0   0   0      0   0  \n",
       "1           0        0     0         0    0   0   0      0   0  \n",
       "2           0        0     0         0    0   0   0      0   0  \n",
       "3           0        0     0         0    0   0   0      0   0  \n",
       "4           0        0     0         0    0   0   0      0   0  \n",
       "...       ...      ...   ...       ...  ...  ..  ..    ...  ..  \n",
       "91268       0        0     0         0    0   0   0      0   0  \n",
       "91269       0        0     0         0    0   0   0      0   0  \n",
       "91270       0        0     0         0    0   0   0      0   0  \n",
       "91271       0        0     0         0    0   0   0      0   0  \n",
       "91272       0        0     0         0    0   0   0      0   0  \n",
       "\n",
       "[91273 rows x 14436 columns]"
      ]
     },
     "execution_count": 23,
     "metadata": {},
     "output_type": "execute_result"
    }
   ],
   "source": [
    "# Creating a document term matrix for the train data using CountVectorizer\n",
    "X_train_cv_dtm = pd.DataFrame(X_train_cv.toarray(), columns=countvectorizer.get_feature_names())\n",
    "X_train_cv_dtm"
   ]
  },
  {
   "cell_type": "code",
   "execution_count": 24,
   "metadata": {},
   "outputs": [
    {
     "data": {
      "text/html": [
       "<div>\n",
       "<style scoped>\n",
       "    .dataframe tbody tr th:only-of-type {\n",
       "        vertical-align: middle;\n",
       "    }\n",
       "\n",
       "    .dataframe tbody tr th {\n",
       "        vertical-align: top;\n",
       "    }\n",
       "\n",
       "    .dataframe thead th {\n",
       "        text-align: right;\n",
       "    }\n",
       "</style>\n",
       "<table border=\"1\" class=\"dataframe\">\n",
       "  <thead>\n",
       "    <tr style=\"text-align: right;\">\n",
       "      <th></th>\n",
       "      <th>00</th>\n",
       "      <th>000</th>\n",
       "      <th>0005a</th>\n",
       "      <th>001</th>\n",
       "      <th>002</th>\n",
       "      <th>003</th>\n",
       "      <th>0030</th>\n",
       "      <th>00367</th>\n",
       "      <th>004</th>\n",
       "      <th>005</th>\n",
       "      <th>...</th>\n",
       "      <th>zipcode</th>\n",
       "      <th>ziploc</th>\n",
       "      <th>ziplock</th>\n",
       "      <th>zone</th>\n",
       "      <th>zucchini</th>\n",
       "      <th>½ed</th>\n",
       "      <th>½f</th>\n",
       "      <th>½o</th>\n",
       "      <th>½time</th>\n",
       "      <th>½ï</th>\n",
       "    </tr>\n",
       "  </thead>\n",
       "  <tbody>\n",
       "    <tr>\n",
       "      <td>0</td>\n",
       "      <td>0</td>\n",
       "      <td>0</td>\n",
       "      <td>0</td>\n",
       "      <td>0</td>\n",
       "      <td>0</td>\n",
       "      <td>0</td>\n",
       "      <td>0</td>\n",
       "      <td>0</td>\n",
       "      <td>0</td>\n",
       "      <td>0</td>\n",
       "      <td>...</td>\n",
       "      <td>0</td>\n",
       "      <td>0</td>\n",
       "      <td>0</td>\n",
       "      <td>0</td>\n",
       "      <td>0</td>\n",
       "      <td>0</td>\n",
       "      <td>0</td>\n",
       "      <td>0</td>\n",
       "      <td>0</td>\n",
       "      <td>0</td>\n",
       "    </tr>\n",
       "    <tr>\n",
       "      <td>1</td>\n",
       "      <td>0</td>\n",
       "      <td>0</td>\n",
       "      <td>0</td>\n",
       "      <td>0</td>\n",
       "      <td>0</td>\n",
       "      <td>0</td>\n",
       "      <td>0</td>\n",
       "      <td>0</td>\n",
       "      <td>0</td>\n",
       "      <td>0</td>\n",
       "      <td>...</td>\n",
       "      <td>0</td>\n",
       "      <td>0</td>\n",
       "      <td>0</td>\n",
       "      <td>0</td>\n",
       "      <td>0</td>\n",
       "      <td>0</td>\n",
       "      <td>0</td>\n",
       "      <td>0</td>\n",
       "      <td>0</td>\n",
       "      <td>0</td>\n",
       "    </tr>\n",
       "    <tr>\n",
       "      <td>2</td>\n",
       "      <td>0</td>\n",
       "      <td>0</td>\n",
       "      <td>0</td>\n",
       "      <td>0</td>\n",
       "      <td>0</td>\n",
       "      <td>0</td>\n",
       "      <td>0</td>\n",
       "      <td>0</td>\n",
       "      <td>0</td>\n",
       "      <td>0</td>\n",
       "      <td>...</td>\n",
       "      <td>0</td>\n",
       "      <td>0</td>\n",
       "      <td>0</td>\n",
       "      <td>0</td>\n",
       "      <td>0</td>\n",
       "      <td>0</td>\n",
       "      <td>0</td>\n",
       "      <td>0</td>\n",
       "      <td>0</td>\n",
       "      <td>0</td>\n",
       "    </tr>\n",
       "    <tr>\n",
       "      <td>3</td>\n",
       "      <td>0</td>\n",
       "      <td>0</td>\n",
       "      <td>0</td>\n",
       "      <td>0</td>\n",
       "      <td>0</td>\n",
       "      <td>0</td>\n",
       "      <td>0</td>\n",
       "      <td>0</td>\n",
       "      <td>0</td>\n",
       "      <td>3</td>\n",
       "      <td>...</td>\n",
       "      <td>0</td>\n",
       "      <td>0</td>\n",
       "      <td>0</td>\n",
       "      <td>0</td>\n",
       "      <td>0</td>\n",
       "      <td>0</td>\n",
       "      <td>0</td>\n",
       "      <td>0</td>\n",
       "      <td>0</td>\n",
       "      <td>0</td>\n",
       "    </tr>\n",
       "    <tr>\n",
       "      <td>4</td>\n",
       "      <td>0</td>\n",
       "      <td>0</td>\n",
       "      <td>0</td>\n",
       "      <td>0</td>\n",
       "      <td>0</td>\n",
       "      <td>0</td>\n",
       "      <td>0</td>\n",
       "      <td>0</td>\n",
       "      <td>0</td>\n",
       "      <td>0</td>\n",
       "      <td>...</td>\n",
       "      <td>0</td>\n",
       "      <td>0</td>\n",
       "      <td>0</td>\n",
       "      <td>0</td>\n",
       "      <td>0</td>\n",
       "      <td>0</td>\n",
       "      <td>0</td>\n",
       "      <td>0</td>\n",
       "      <td>0</td>\n",
       "      <td>0</td>\n",
       "    </tr>\n",
       "    <tr>\n",
       "      <td>...</td>\n",
       "      <td>...</td>\n",
       "      <td>...</td>\n",
       "      <td>...</td>\n",
       "      <td>...</td>\n",
       "      <td>...</td>\n",
       "      <td>...</td>\n",
       "      <td>...</td>\n",
       "      <td>...</td>\n",
       "      <td>...</td>\n",
       "      <td>...</td>\n",
       "      <td>...</td>\n",
       "      <td>...</td>\n",
       "      <td>...</td>\n",
       "      <td>...</td>\n",
       "      <td>...</td>\n",
       "      <td>...</td>\n",
       "      <td>...</td>\n",
       "      <td>...</td>\n",
       "      <td>...</td>\n",
       "      <td>...</td>\n",
       "      <td>...</td>\n",
       "    </tr>\n",
       "    <tr>\n",
       "      <td>30420</td>\n",
       "      <td>0</td>\n",
       "      <td>0</td>\n",
       "      <td>0</td>\n",
       "      <td>0</td>\n",
       "      <td>0</td>\n",
       "      <td>0</td>\n",
       "      <td>0</td>\n",
       "      <td>0</td>\n",
       "      <td>0</td>\n",
       "      <td>0</td>\n",
       "      <td>...</td>\n",
       "      <td>0</td>\n",
       "      <td>0</td>\n",
       "      <td>0</td>\n",
       "      <td>0</td>\n",
       "      <td>0</td>\n",
       "      <td>0</td>\n",
       "      <td>0</td>\n",
       "      <td>0</td>\n",
       "      <td>0</td>\n",
       "      <td>0</td>\n",
       "    </tr>\n",
       "    <tr>\n",
       "      <td>30421</td>\n",
       "      <td>0</td>\n",
       "      <td>0</td>\n",
       "      <td>0</td>\n",
       "      <td>0</td>\n",
       "      <td>0</td>\n",
       "      <td>0</td>\n",
       "      <td>0</td>\n",
       "      <td>0</td>\n",
       "      <td>0</td>\n",
       "      <td>0</td>\n",
       "      <td>...</td>\n",
       "      <td>0</td>\n",
       "      <td>0</td>\n",
       "      <td>0</td>\n",
       "      <td>0</td>\n",
       "      <td>0</td>\n",
       "      <td>0</td>\n",
       "      <td>0</td>\n",
       "      <td>0</td>\n",
       "      <td>0</td>\n",
       "      <td>0</td>\n",
       "    </tr>\n",
       "    <tr>\n",
       "      <td>30422</td>\n",
       "      <td>0</td>\n",
       "      <td>0</td>\n",
       "      <td>0</td>\n",
       "      <td>0</td>\n",
       "      <td>0</td>\n",
       "      <td>0</td>\n",
       "      <td>0</td>\n",
       "      <td>0</td>\n",
       "      <td>0</td>\n",
       "      <td>3</td>\n",
       "      <td>...</td>\n",
       "      <td>0</td>\n",
       "      <td>0</td>\n",
       "      <td>0</td>\n",
       "      <td>0</td>\n",
       "      <td>0</td>\n",
       "      <td>0</td>\n",
       "      <td>0</td>\n",
       "      <td>0</td>\n",
       "      <td>0</td>\n",
       "      <td>0</td>\n",
       "    </tr>\n",
       "    <tr>\n",
       "      <td>30423</td>\n",
       "      <td>0</td>\n",
       "      <td>0</td>\n",
       "      <td>0</td>\n",
       "      <td>0</td>\n",
       "      <td>0</td>\n",
       "      <td>0</td>\n",
       "      <td>0</td>\n",
       "      <td>0</td>\n",
       "      <td>0</td>\n",
       "      <td>0</td>\n",
       "      <td>...</td>\n",
       "      <td>0</td>\n",
       "      <td>0</td>\n",
       "      <td>0</td>\n",
       "      <td>0</td>\n",
       "      <td>0</td>\n",
       "      <td>0</td>\n",
       "      <td>0</td>\n",
       "      <td>0</td>\n",
       "      <td>0</td>\n",
       "      <td>0</td>\n",
       "    </tr>\n",
       "    <tr>\n",
       "      <td>30424</td>\n",
       "      <td>0</td>\n",
       "      <td>0</td>\n",
       "      <td>0</td>\n",
       "      <td>0</td>\n",
       "      <td>0</td>\n",
       "      <td>0</td>\n",
       "      <td>0</td>\n",
       "      <td>0</td>\n",
       "      <td>0</td>\n",
       "      <td>0</td>\n",
       "      <td>...</td>\n",
       "      <td>0</td>\n",
       "      <td>0</td>\n",
       "      <td>0</td>\n",
       "      <td>0</td>\n",
       "      <td>0</td>\n",
       "      <td>0</td>\n",
       "      <td>0</td>\n",
       "      <td>0</td>\n",
       "      <td>0</td>\n",
       "      <td>0</td>\n",
       "    </tr>\n",
       "  </tbody>\n",
       "</table>\n",
       "<p>30425 rows × 14436 columns</p>\n",
       "</div>"
      ],
      "text/plain": [
       "       00  000  0005a  001  002  003  0030  00367  004  005  ...  zipcode  \\\n",
       "0       0    0      0    0    0    0     0      0    0    0  ...        0   \n",
       "1       0    0      0    0    0    0     0      0    0    0  ...        0   \n",
       "2       0    0      0    0    0    0     0      0    0    0  ...        0   \n",
       "3       0    0      0    0    0    0     0      0    0    3  ...        0   \n",
       "4       0    0      0    0    0    0     0      0    0    0  ...        0   \n",
       "...    ..  ...    ...  ...  ...  ...   ...    ...  ...  ...  ...      ...   \n",
       "30420   0    0      0    0    0    0     0      0    0    0  ...        0   \n",
       "30421   0    0      0    0    0    0     0      0    0    0  ...        0   \n",
       "30422   0    0      0    0    0    0     0      0    0    3  ...        0   \n",
       "30423   0    0      0    0    0    0     0      0    0    0  ...        0   \n",
       "30424   0    0      0    0    0    0     0      0    0    0  ...        0   \n",
       "\n",
       "       ziploc  ziplock  zone  zucchini  ½ed  ½f  ½o  ½time  ½ï  \n",
       "0           0        0     0         0    0   0   0      0   0  \n",
       "1           0        0     0         0    0   0   0      0   0  \n",
       "2           0        0     0         0    0   0   0      0   0  \n",
       "3           0        0     0         0    0   0   0      0   0  \n",
       "4           0        0     0         0    0   0   0      0   0  \n",
       "...       ...      ...   ...       ...  ...  ..  ..    ...  ..  \n",
       "30420       0        0     0         0    0   0   0      0   0  \n",
       "30421       0        0     0         0    0   0   0      0   0  \n",
       "30422       0        0     0         0    0   0   0      0   0  \n",
       "30423       0        0     0         0    0   0   0      0   0  \n",
       "30424       0        0     0         0    0   0   0      0   0  \n",
       "\n",
       "[30425 rows x 14436 columns]"
      ]
     },
     "execution_count": 24,
     "metadata": {},
     "output_type": "execute_result"
    }
   ],
   "source": [
    "# Creating a document term matrix for the test data CountVectorizer\n",
    "X_test_cv = countvectorizer.transform(X_test)\n",
    "X_test_cv_dtm = pd.DataFrame(X_test_cv.toarray(), columns=countvectorizer.get_feature_names())\n",
    "X_test_cv_dtm"
   ]
  },
  {
   "cell_type": "markdown",
   "metadata": {},
   "source": [
    "# TF-IDF Vectorizer"
   ]
  },
  {
   "cell_type": "code",
   "execution_count": 25,
   "metadata": {},
   "outputs": [
    {
     "data": {
      "text/plain": [
       "(91273, 32822)"
      ]
     },
     "execution_count": 25,
     "metadata": {},
     "output_type": "execute_result"
    }
   ],
   "source": [
    "# Transforming/Vectorizing the train data using TF-IDF Vectorizer\n",
    "tfidfvectorizer = TfidfVectorizer(stop_words='english')\n",
    "X_train_tfidf = tfidfvectorizer.fit_transform(X_train)\n",
    "X_train_tfidf.shape"
   ]
  },
  {
   "cell_type": "code",
   "execution_count": 26,
   "metadata": {},
   "outputs": [
    {
     "data": {
      "text/html": [
       "<div>\n",
       "<style scoped>\n",
       "    .dataframe tbody tr th:only-of-type {\n",
       "        vertical-align: middle;\n",
       "    }\n",
       "\n",
       "    .dataframe tbody tr th {\n",
       "        vertical-align: top;\n",
       "    }\n",
       "\n",
       "    .dataframe thead th {\n",
       "        text-align: right;\n",
       "    }\n",
       "</style>\n",
       "<table border=\"1\" class=\"dataframe\">\n",
       "  <thead>\n",
       "    <tr style=\"text-align: right;\">\n",
       "      <th></th>\n",
       "      <th>00</th>\n",
       "      <th>000</th>\n",
       "      <th>000058831</th>\n",
       "      <th>0001</th>\n",
       "      <th>0005a</th>\n",
       "      <th>0008</th>\n",
       "      <th>000c</th>\n",
       "      <th>000lbs</th>\n",
       "      <th>001</th>\n",
       "      <th>002</th>\n",
       "      <th>...</th>\n",
       "      <th>zumba</th>\n",
       "      <th>zumex</th>\n",
       "      <th>zurich</th>\n",
       "      <th>½c</th>\n",
       "      <th>½ed</th>\n",
       "      <th>½f</th>\n",
       "      <th>½o</th>\n",
       "      <th>½s</th>\n",
       "      <th>½time</th>\n",
       "      <th>½ï</th>\n",
       "    </tr>\n",
       "  </thead>\n",
       "  <tbody>\n",
       "    <tr>\n",
       "      <td>0</td>\n",
       "      <td>0.0</td>\n",
       "      <td>0.0</td>\n",
       "      <td>0.0</td>\n",
       "      <td>0.0</td>\n",
       "      <td>0.0</td>\n",
       "      <td>0.0</td>\n",
       "      <td>0.0</td>\n",
       "      <td>0.0</td>\n",
       "      <td>0.0</td>\n",
       "      <td>0.0</td>\n",
       "      <td>...</td>\n",
       "      <td>0.0</td>\n",
       "      <td>0.0</td>\n",
       "      <td>0.0</td>\n",
       "      <td>0.0</td>\n",
       "      <td>0.0</td>\n",
       "      <td>0.0</td>\n",
       "      <td>0.0</td>\n",
       "      <td>0.0</td>\n",
       "      <td>0.0</td>\n",
       "      <td>0.0</td>\n",
       "    </tr>\n",
       "    <tr>\n",
       "      <td>1</td>\n",
       "      <td>0.0</td>\n",
       "      <td>0.0</td>\n",
       "      <td>0.0</td>\n",
       "      <td>0.0</td>\n",
       "      <td>0.0</td>\n",
       "      <td>0.0</td>\n",
       "      <td>0.0</td>\n",
       "      <td>0.0</td>\n",
       "      <td>0.0</td>\n",
       "      <td>0.0</td>\n",
       "      <td>...</td>\n",
       "      <td>0.0</td>\n",
       "      <td>0.0</td>\n",
       "      <td>0.0</td>\n",
       "      <td>0.0</td>\n",
       "      <td>0.0</td>\n",
       "      <td>0.0</td>\n",
       "      <td>0.0</td>\n",
       "      <td>0.0</td>\n",
       "      <td>0.0</td>\n",
       "      <td>0.0</td>\n",
       "    </tr>\n",
       "    <tr>\n",
       "      <td>2</td>\n",
       "      <td>0.0</td>\n",
       "      <td>0.0</td>\n",
       "      <td>0.0</td>\n",
       "      <td>0.0</td>\n",
       "      <td>0.0</td>\n",
       "      <td>0.0</td>\n",
       "      <td>0.0</td>\n",
       "      <td>0.0</td>\n",
       "      <td>0.0</td>\n",
       "      <td>0.0</td>\n",
       "      <td>...</td>\n",
       "      <td>0.0</td>\n",
       "      <td>0.0</td>\n",
       "      <td>0.0</td>\n",
       "      <td>0.0</td>\n",
       "      <td>0.0</td>\n",
       "      <td>0.0</td>\n",
       "      <td>0.0</td>\n",
       "      <td>0.0</td>\n",
       "      <td>0.0</td>\n",
       "      <td>0.0</td>\n",
       "    </tr>\n",
       "    <tr>\n",
       "      <td>3</td>\n",
       "      <td>0.0</td>\n",
       "      <td>0.0</td>\n",
       "      <td>0.0</td>\n",
       "      <td>0.0</td>\n",
       "      <td>0.0</td>\n",
       "      <td>0.0</td>\n",
       "      <td>0.0</td>\n",
       "      <td>0.0</td>\n",
       "      <td>0.0</td>\n",
       "      <td>0.0</td>\n",
       "      <td>...</td>\n",
       "      <td>0.0</td>\n",
       "      <td>0.0</td>\n",
       "      <td>0.0</td>\n",
       "      <td>0.0</td>\n",
       "      <td>0.0</td>\n",
       "      <td>0.0</td>\n",
       "      <td>0.0</td>\n",
       "      <td>0.0</td>\n",
       "      <td>0.0</td>\n",
       "      <td>0.0</td>\n",
       "    </tr>\n",
       "    <tr>\n",
       "      <td>4</td>\n",
       "      <td>0.0</td>\n",
       "      <td>0.0</td>\n",
       "      <td>0.0</td>\n",
       "      <td>0.0</td>\n",
       "      <td>0.0</td>\n",
       "      <td>0.0</td>\n",
       "      <td>0.0</td>\n",
       "      <td>0.0</td>\n",
       "      <td>0.0</td>\n",
       "      <td>0.0</td>\n",
       "      <td>...</td>\n",
       "      <td>0.0</td>\n",
       "      <td>0.0</td>\n",
       "      <td>0.0</td>\n",
       "      <td>0.0</td>\n",
       "      <td>0.0</td>\n",
       "      <td>0.0</td>\n",
       "      <td>0.0</td>\n",
       "      <td>0.0</td>\n",
       "      <td>0.0</td>\n",
       "      <td>0.0</td>\n",
       "    </tr>\n",
       "    <tr>\n",
       "      <td>...</td>\n",
       "      <td>...</td>\n",
       "      <td>...</td>\n",
       "      <td>...</td>\n",
       "      <td>...</td>\n",
       "      <td>...</td>\n",
       "      <td>...</td>\n",
       "      <td>...</td>\n",
       "      <td>...</td>\n",
       "      <td>...</td>\n",
       "      <td>...</td>\n",
       "      <td>...</td>\n",
       "      <td>...</td>\n",
       "      <td>...</td>\n",
       "      <td>...</td>\n",
       "      <td>...</td>\n",
       "      <td>...</td>\n",
       "      <td>...</td>\n",
       "      <td>...</td>\n",
       "      <td>...</td>\n",
       "      <td>...</td>\n",
       "      <td>...</td>\n",
       "    </tr>\n",
       "    <tr>\n",
       "      <td>91268</td>\n",
       "      <td>0.0</td>\n",
       "      <td>0.0</td>\n",
       "      <td>0.0</td>\n",
       "      <td>0.0</td>\n",
       "      <td>0.0</td>\n",
       "      <td>0.0</td>\n",
       "      <td>0.0</td>\n",
       "      <td>0.0</td>\n",
       "      <td>0.0</td>\n",
       "      <td>0.0</td>\n",
       "      <td>...</td>\n",
       "      <td>0.0</td>\n",
       "      <td>0.0</td>\n",
       "      <td>0.0</td>\n",
       "      <td>0.0</td>\n",
       "      <td>0.0</td>\n",
       "      <td>0.0</td>\n",
       "      <td>0.0</td>\n",
       "      <td>0.0</td>\n",
       "      <td>0.0</td>\n",
       "      <td>0.0</td>\n",
       "    </tr>\n",
       "    <tr>\n",
       "      <td>91269</td>\n",
       "      <td>0.0</td>\n",
       "      <td>0.0</td>\n",
       "      <td>0.0</td>\n",
       "      <td>0.0</td>\n",
       "      <td>0.0</td>\n",
       "      <td>0.0</td>\n",
       "      <td>0.0</td>\n",
       "      <td>0.0</td>\n",
       "      <td>0.0</td>\n",
       "      <td>0.0</td>\n",
       "      <td>...</td>\n",
       "      <td>0.0</td>\n",
       "      <td>0.0</td>\n",
       "      <td>0.0</td>\n",
       "      <td>0.0</td>\n",
       "      <td>0.0</td>\n",
       "      <td>0.0</td>\n",
       "      <td>0.0</td>\n",
       "      <td>0.0</td>\n",
       "      <td>0.0</td>\n",
       "      <td>0.0</td>\n",
       "    </tr>\n",
       "    <tr>\n",
       "      <td>91270</td>\n",
       "      <td>0.0</td>\n",
       "      <td>0.0</td>\n",
       "      <td>0.0</td>\n",
       "      <td>0.0</td>\n",
       "      <td>0.0</td>\n",
       "      <td>0.0</td>\n",
       "      <td>0.0</td>\n",
       "      <td>0.0</td>\n",
       "      <td>0.0</td>\n",
       "      <td>0.0</td>\n",
       "      <td>...</td>\n",
       "      <td>0.0</td>\n",
       "      <td>0.0</td>\n",
       "      <td>0.0</td>\n",
       "      <td>0.0</td>\n",
       "      <td>0.0</td>\n",
       "      <td>0.0</td>\n",
       "      <td>0.0</td>\n",
       "      <td>0.0</td>\n",
       "      <td>0.0</td>\n",
       "      <td>0.0</td>\n",
       "    </tr>\n",
       "    <tr>\n",
       "      <td>91271</td>\n",
       "      <td>0.0</td>\n",
       "      <td>0.0</td>\n",
       "      <td>0.0</td>\n",
       "      <td>0.0</td>\n",
       "      <td>0.0</td>\n",
       "      <td>0.0</td>\n",
       "      <td>0.0</td>\n",
       "      <td>0.0</td>\n",
       "      <td>0.0</td>\n",
       "      <td>0.0</td>\n",
       "      <td>...</td>\n",
       "      <td>0.0</td>\n",
       "      <td>0.0</td>\n",
       "      <td>0.0</td>\n",
       "      <td>0.0</td>\n",
       "      <td>0.0</td>\n",
       "      <td>0.0</td>\n",
       "      <td>0.0</td>\n",
       "      <td>0.0</td>\n",
       "      <td>0.0</td>\n",
       "      <td>0.0</td>\n",
       "    </tr>\n",
       "    <tr>\n",
       "      <td>91272</td>\n",
       "      <td>0.0</td>\n",
       "      <td>0.0</td>\n",
       "      <td>0.0</td>\n",
       "      <td>0.0</td>\n",
       "      <td>0.0</td>\n",
       "      <td>0.0</td>\n",
       "      <td>0.0</td>\n",
       "      <td>0.0</td>\n",
       "      <td>0.0</td>\n",
       "      <td>0.0</td>\n",
       "      <td>...</td>\n",
       "      <td>0.0</td>\n",
       "      <td>0.0</td>\n",
       "      <td>0.0</td>\n",
       "      <td>0.0</td>\n",
       "      <td>0.0</td>\n",
       "      <td>0.0</td>\n",
       "      <td>0.0</td>\n",
       "      <td>0.0</td>\n",
       "      <td>0.0</td>\n",
       "      <td>0.0</td>\n",
       "    </tr>\n",
       "  </tbody>\n",
       "</table>\n",
       "<p>91273 rows × 32822 columns</p>\n",
       "</div>"
      ],
      "text/plain": [
       "        00  000  000058831  0001  0005a  0008  000c  000lbs  001  002  ...  \\\n",
       "0      0.0  0.0        0.0   0.0    0.0   0.0   0.0     0.0  0.0  0.0  ...   \n",
       "1      0.0  0.0        0.0   0.0    0.0   0.0   0.0     0.0  0.0  0.0  ...   \n",
       "2      0.0  0.0        0.0   0.0    0.0   0.0   0.0     0.0  0.0  0.0  ...   \n",
       "3      0.0  0.0        0.0   0.0    0.0   0.0   0.0     0.0  0.0  0.0  ...   \n",
       "4      0.0  0.0        0.0   0.0    0.0   0.0   0.0     0.0  0.0  0.0  ...   \n",
       "...    ...  ...        ...   ...    ...   ...   ...     ...  ...  ...  ...   \n",
       "91268  0.0  0.0        0.0   0.0    0.0   0.0   0.0     0.0  0.0  0.0  ...   \n",
       "91269  0.0  0.0        0.0   0.0    0.0   0.0   0.0     0.0  0.0  0.0  ...   \n",
       "91270  0.0  0.0        0.0   0.0    0.0   0.0   0.0     0.0  0.0  0.0  ...   \n",
       "91271  0.0  0.0        0.0   0.0    0.0   0.0   0.0     0.0  0.0  0.0  ...   \n",
       "91272  0.0  0.0        0.0   0.0    0.0   0.0   0.0     0.0  0.0  0.0  ...   \n",
       "\n",
       "       zumba  zumex  zurich   ½c  ½ed   ½f   ½o   ½s  ½time   ½ï  \n",
       "0        0.0    0.0     0.0  0.0  0.0  0.0  0.0  0.0    0.0  0.0  \n",
       "1        0.0    0.0     0.0  0.0  0.0  0.0  0.0  0.0    0.0  0.0  \n",
       "2        0.0    0.0     0.0  0.0  0.0  0.0  0.0  0.0    0.0  0.0  \n",
       "3        0.0    0.0     0.0  0.0  0.0  0.0  0.0  0.0    0.0  0.0  \n",
       "4        0.0    0.0     0.0  0.0  0.0  0.0  0.0  0.0    0.0  0.0  \n",
       "...      ...    ...     ...  ...  ...  ...  ...  ...    ...  ...  \n",
       "91268    0.0    0.0     0.0  0.0  0.0  0.0  0.0  0.0    0.0  0.0  \n",
       "91269    0.0    0.0     0.0  0.0  0.0  0.0  0.0  0.0    0.0  0.0  \n",
       "91270    0.0    0.0     0.0  0.0  0.0  0.0  0.0  0.0    0.0  0.0  \n",
       "91271    0.0    0.0     0.0  0.0  0.0  0.0  0.0  0.0    0.0  0.0  \n",
       "91272    0.0    0.0     0.0  0.0  0.0  0.0  0.0  0.0    0.0  0.0  \n",
       "\n",
       "[91273 rows x 32822 columns]"
      ]
     },
     "execution_count": 26,
     "metadata": {},
     "output_type": "execute_result"
    }
   ],
   "source": [
    "# Creating the Document term matrix for the train data using TF-IDF vectorizer\n",
    "X_train_tfidf_dtm = pd.DataFrame(X_train_tfidf.toarray(), columns=tfidfvectorizer.get_feature_names())\n",
    "X_train_tfidf_dtm"
   ]
  },
  {
   "cell_type": "code",
   "execution_count": 27,
   "metadata": {},
   "outputs": [
    {
     "data": {
      "text/html": [
       "<div>\n",
       "<style scoped>\n",
       "    .dataframe tbody tr th:only-of-type {\n",
       "        vertical-align: middle;\n",
       "    }\n",
       "\n",
       "    .dataframe tbody tr th {\n",
       "        vertical-align: top;\n",
       "    }\n",
       "\n",
       "    .dataframe thead th {\n",
       "        text-align: right;\n",
       "    }\n",
       "</style>\n",
       "<table border=\"1\" class=\"dataframe\">\n",
       "  <thead>\n",
       "    <tr style=\"text-align: right;\">\n",
       "      <th></th>\n",
       "      <th>00</th>\n",
       "      <th>000</th>\n",
       "      <th>000058831</th>\n",
       "      <th>0001</th>\n",
       "      <th>0005a</th>\n",
       "      <th>0008</th>\n",
       "      <th>000c</th>\n",
       "      <th>000lbs</th>\n",
       "      <th>001</th>\n",
       "      <th>002</th>\n",
       "      <th>...</th>\n",
       "      <th>zumba</th>\n",
       "      <th>zumex</th>\n",
       "      <th>zurich</th>\n",
       "      <th>½c</th>\n",
       "      <th>½ed</th>\n",
       "      <th>½f</th>\n",
       "      <th>½o</th>\n",
       "      <th>½s</th>\n",
       "      <th>½time</th>\n",
       "      <th>½ï</th>\n",
       "    </tr>\n",
       "  </thead>\n",
       "  <tbody>\n",
       "    <tr>\n",
       "      <td>0</td>\n",
       "      <td>0.0</td>\n",
       "      <td>0.0</td>\n",
       "      <td>0.0</td>\n",
       "      <td>0.0</td>\n",
       "      <td>0.0</td>\n",
       "      <td>0.0</td>\n",
       "      <td>0.0</td>\n",
       "      <td>0.0</td>\n",
       "      <td>0.0</td>\n",
       "      <td>0.0</td>\n",
       "      <td>...</td>\n",
       "      <td>0.0</td>\n",
       "      <td>0.0</td>\n",
       "      <td>0.0</td>\n",
       "      <td>0.0</td>\n",
       "      <td>0.0</td>\n",
       "      <td>0.0</td>\n",
       "      <td>0.0</td>\n",
       "      <td>0.0</td>\n",
       "      <td>0.0</td>\n",
       "      <td>0.0</td>\n",
       "    </tr>\n",
       "    <tr>\n",
       "      <td>1</td>\n",
       "      <td>0.0</td>\n",
       "      <td>0.0</td>\n",
       "      <td>0.0</td>\n",
       "      <td>0.0</td>\n",
       "      <td>0.0</td>\n",
       "      <td>0.0</td>\n",
       "      <td>0.0</td>\n",
       "      <td>0.0</td>\n",
       "      <td>0.0</td>\n",
       "      <td>0.0</td>\n",
       "      <td>...</td>\n",
       "      <td>0.0</td>\n",
       "      <td>0.0</td>\n",
       "      <td>0.0</td>\n",
       "      <td>0.0</td>\n",
       "      <td>0.0</td>\n",
       "      <td>0.0</td>\n",
       "      <td>0.0</td>\n",
       "      <td>0.0</td>\n",
       "      <td>0.0</td>\n",
       "      <td>0.0</td>\n",
       "    </tr>\n",
       "    <tr>\n",
       "      <td>2</td>\n",
       "      <td>0.0</td>\n",
       "      <td>0.0</td>\n",
       "      <td>0.0</td>\n",
       "      <td>0.0</td>\n",
       "      <td>0.0</td>\n",
       "      <td>0.0</td>\n",
       "      <td>0.0</td>\n",
       "      <td>0.0</td>\n",
       "      <td>0.0</td>\n",
       "      <td>0.0</td>\n",
       "      <td>...</td>\n",
       "      <td>0.0</td>\n",
       "      <td>0.0</td>\n",
       "      <td>0.0</td>\n",
       "      <td>0.0</td>\n",
       "      <td>0.0</td>\n",
       "      <td>0.0</td>\n",
       "      <td>0.0</td>\n",
       "      <td>0.0</td>\n",
       "      <td>0.0</td>\n",
       "      <td>0.0</td>\n",
       "    </tr>\n",
       "    <tr>\n",
       "      <td>3</td>\n",
       "      <td>0.0</td>\n",
       "      <td>0.0</td>\n",
       "      <td>0.0</td>\n",
       "      <td>0.0</td>\n",
       "      <td>0.0</td>\n",
       "      <td>0.0</td>\n",
       "      <td>0.0</td>\n",
       "      <td>0.0</td>\n",
       "      <td>0.0</td>\n",
       "      <td>0.0</td>\n",
       "      <td>...</td>\n",
       "      <td>0.0</td>\n",
       "      <td>0.0</td>\n",
       "      <td>0.0</td>\n",
       "      <td>0.0</td>\n",
       "      <td>0.0</td>\n",
       "      <td>0.0</td>\n",
       "      <td>0.0</td>\n",
       "      <td>0.0</td>\n",
       "      <td>0.0</td>\n",
       "      <td>0.0</td>\n",
       "    </tr>\n",
       "    <tr>\n",
       "      <td>4</td>\n",
       "      <td>0.0</td>\n",
       "      <td>0.0</td>\n",
       "      <td>0.0</td>\n",
       "      <td>0.0</td>\n",
       "      <td>0.0</td>\n",
       "      <td>0.0</td>\n",
       "      <td>0.0</td>\n",
       "      <td>0.0</td>\n",
       "      <td>0.0</td>\n",
       "      <td>0.0</td>\n",
       "      <td>...</td>\n",
       "      <td>0.0</td>\n",
       "      <td>0.0</td>\n",
       "      <td>0.0</td>\n",
       "      <td>0.0</td>\n",
       "      <td>0.0</td>\n",
       "      <td>0.0</td>\n",
       "      <td>0.0</td>\n",
       "      <td>0.0</td>\n",
       "      <td>0.0</td>\n",
       "      <td>0.0</td>\n",
       "    </tr>\n",
       "    <tr>\n",
       "      <td>...</td>\n",
       "      <td>...</td>\n",
       "      <td>...</td>\n",
       "      <td>...</td>\n",
       "      <td>...</td>\n",
       "      <td>...</td>\n",
       "      <td>...</td>\n",
       "      <td>...</td>\n",
       "      <td>...</td>\n",
       "      <td>...</td>\n",
       "      <td>...</td>\n",
       "      <td>...</td>\n",
       "      <td>...</td>\n",
       "      <td>...</td>\n",
       "      <td>...</td>\n",
       "      <td>...</td>\n",
       "      <td>...</td>\n",
       "      <td>...</td>\n",
       "      <td>...</td>\n",
       "      <td>...</td>\n",
       "      <td>...</td>\n",
       "      <td>...</td>\n",
       "    </tr>\n",
       "    <tr>\n",
       "      <td>30420</td>\n",
       "      <td>0.0</td>\n",
       "      <td>0.0</td>\n",
       "      <td>0.0</td>\n",
       "      <td>0.0</td>\n",
       "      <td>0.0</td>\n",
       "      <td>0.0</td>\n",
       "      <td>0.0</td>\n",
       "      <td>0.0</td>\n",
       "      <td>0.0</td>\n",
       "      <td>0.0</td>\n",
       "      <td>...</td>\n",
       "      <td>0.0</td>\n",
       "      <td>0.0</td>\n",
       "      <td>0.0</td>\n",
       "      <td>0.0</td>\n",
       "      <td>0.0</td>\n",
       "      <td>0.0</td>\n",
       "      <td>0.0</td>\n",
       "      <td>0.0</td>\n",
       "      <td>0.0</td>\n",
       "      <td>0.0</td>\n",
       "    </tr>\n",
       "    <tr>\n",
       "      <td>30421</td>\n",
       "      <td>0.0</td>\n",
       "      <td>0.0</td>\n",
       "      <td>0.0</td>\n",
       "      <td>0.0</td>\n",
       "      <td>0.0</td>\n",
       "      <td>0.0</td>\n",
       "      <td>0.0</td>\n",
       "      <td>0.0</td>\n",
       "      <td>0.0</td>\n",
       "      <td>0.0</td>\n",
       "      <td>...</td>\n",
       "      <td>0.0</td>\n",
       "      <td>0.0</td>\n",
       "      <td>0.0</td>\n",
       "      <td>0.0</td>\n",
       "      <td>0.0</td>\n",
       "      <td>0.0</td>\n",
       "      <td>0.0</td>\n",
       "      <td>0.0</td>\n",
       "      <td>0.0</td>\n",
       "      <td>0.0</td>\n",
       "    </tr>\n",
       "    <tr>\n",
       "      <td>30422</td>\n",
       "      <td>0.0</td>\n",
       "      <td>0.0</td>\n",
       "      <td>0.0</td>\n",
       "      <td>0.0</td>\n",
       "      <td>0.0</td>\n",
       "      <td>0.0</td>\n",
       "      <td>0.0</td>\n",
       "      <td>0.0</td>\n",
       "      <td>0.0</td>\n",
       "      <td>0.0</td>\n",
       "      <td>...</td>\n",
       "      <td>0.0</td>\n",
       "      <td>0.0</td>\n",
       "      <td>0.0</td>\n",
       "      <td>0.0</td>\n",
       "      <td>0.0</td>\n",
       "      <td>0.0</td>\n",
       "      <td>0.0</td>\n",
       "      <td>0.0</td>\n",
       "      <td>0.0</td>\n",
       "      <td>0.0</td>\n",
       "    </tr>\n",
       "    <tr>\n",
       "      <td>30423</td>\n",
       "      <td>0.0</td>\n",
       "      <td>0.0</td>\n",
       "      <td>0.0</td>\n",
       "      <td>0.0</td>\n",
       "      <td>0.0</td>\n",
       "      <td>0.0</td>\n",
       "      <td>0.0</td>\n",
       "      <td>0.0</td>\n",
       "      <td>0.0</td>\n",
       "      <td>0.0</td>\n",
       "      <td>...</td>\n",
       "      <td>0.0</td>\n",
       "      <td>0.0</td>\n",
       "      <td>0.0</td>\n",
       "      <td>0.0</td>\n",
       "      <td>0.0</td>\n",
       "      <td>0.0</td>\n",
       "      <td>0.0</td>\n",
       "      <td>0.0</td>\n",
       "      <td>0.0</td>\n",
       "      <td>0.0</td>\n",
       "    </tr>\n",
       "    <tr>\n",
       "      <td>30424</td>\n",
       "      <td>0.0</td>\n",
       "      <td>0.0</td>\n",
       "      <td>0.0</td>\n",
       "      <td>0.0</td>\n",
       "      <td>0.0</td>\n",
       "      <td>0.0</td>\n",
       "      <td>0.0</td>\n",
       "      <td>0.0</td>\n",
       "      <td>0.0</td>\n",
       "      <td>0.0</td>\n",
       "      <td>...</td>\n",
       "      <td>0.0</td>\n",
       "      <td>0.0</td>\n",
       "      <td>0.0</td>\n",
       "      <td>0.0</td>\n",
       "      <td>0.0</td>\n",
       "      <td>0.0</td>\n",
       "      <td>0.0</td>\n",
       "      <td>0.0</td>\n",
       "      <td>0.0</td>\n",
       "      <td>0.0</td>\n",
       "    </tr>\n",
       "  </tbody>\n",
       "</table>\n",
       "<p>30425 rows × 32822 columns</p>\n",
       "</div>"
      ],
      "text/plain": [
       "        00  000  000058831  0001  0005a  0008  000c  000lbs  001  002  ...  \\\n",
       "0      0.0  0.0        0.0   0.0    0.0   0.0   0.0     0.0  0.0  0.0  ...   \n",
       "1      0.0  0.0        0.0   0.0    0.0   0.0   0.0     0.0  0.0  0.0  ...   \n",
       "2      0.0  0.0        0.0   0.0    0.0   0.0   0.0     0.0  0.0  0.0  ...   \n",
       "3      0.0  0.0        0.0   0.0    0.0   0.0   0.0     0.0  0.0  0.0  ...   \n",
       "4      0.0  0.0        0.0   0.0    0.0   0.0   0.0     0.0  0.0  0.0  ...   \n",
       "...    ...  ...        ...   ...    ...   ...   ...     ...  ...  ...  ...   \n",
       "30420  0.0  0.0        0.0   0.0    0.0   0.0   0.0     0.0  0.0  0.0  ...   \n",
       "30421  0.0  0.0        0.0   0.0    0.0   0.0   0.0     0.0  0.0  0.0  ...   \n",
       "30422  0.0  0.0        0.0   0.0    0.0   0.0   0.0     0.0  0.0  0.0  ...   \n",
       "30423  0.0  0.0        0.0   0.0    0.0   0.0   0.0     0.0  0.0  0.0  ...   \n",
       "30424  0.0  0.0        0.0   0.0    0.0   0.0   0.0     0.0  0.0  0.0  ...   \n",
       "\n",
       "       zumba  zumex  zurich   ½c  ½ed   ½f   ½o   ½s  ½time   ½ï  \n",
       "0        0.0    0.0     0.0  0.0  0.0  0.0  0.0  0.0    0.0  0.0  \n",
       "1        0.0    0.0     0.0  0.0  0.0  0.0  0.0  0.0    0.0  0.0  \n",
       "2        0.0    0.0     0.0  0.0  0.0  0.0  0.0  0.0    0.0  0.0  \n",
       "3        0.0    0.0     0.0  0.0  0.0  0.0  0.0  0.0    0.0  0.0  \n",
       "4        0.0    0.0     0.0  0.0  0.0  0.0  0.0  0.0    0.0  0.0  \n",
       "...      ...    ...     ...  ...  ...  ...  ...  ...    ...  ...  \n",
       "30420    0.0    0.0     0.0  0.0  0.0  0.0  0.0  0.0    0.0  0.0  \n",
       "30421    0.0    0.0     0.0  0.0  0.0  0.0  0.0  0.0    0.0  0.0  \n",
       "30422    0.0    0.0     0.0  0.0  0.0  0.0  0.0  0.0    0.0  0.0  \n",
       "30423    0.0    0.0     0.0  0.0  0.0  0.0  0.0  0.0    0.0  0.0  \n",
       "30424    0.0    0.0     0.0  0.0  0.0  0.0  0.0  0.0    0.0  0.0  \n",
       "\n",
       "[30425 rows x 32822 columns]"
      ]
     },
     "execution_count": 27,
     "metadata": {},
     "output_type": "execute_result"
    }
   ],
   "source": [
    "# Creating the Document term matrix for the test data using TF-IDF vectorizer\n",
    "X_test_tfidf = tfidfvectorizer.transform(X_test)\n",
    "X_test_tfidf_dtm = pd.DataFrame(X_test_tfidf.toarray(), columns=tfidfvectorizer.get_feature_names())\n",
    "X_test_tfidf_dtm"
   ]
  },
  {
   "cell_type": "markdown",
   "metadata": {},
   "source": [
    "# Modelling : Logistic Regression with CountVectorizer"
   ]
  },
  {
   "cell_type": "code",
   "execution_count": 28,
   "metadata": {},
   "outputs": [],
   "source": [
    "# Creating an instance of the logistic regression model\n",
    "logreg = LogisticRegression()"
   ]
  },
  {
   "cell_type": "code",
   "execution_count": 29,
   "metadata": {},
   "outputs": [
    {
     "name": "stderr",
     "output_type": "stream",
     "text": [
      "/opt/anaconda3/lib/python3.7/site-packages/sklearn/linear_model/logistic.py:432: FutureWarning: Default solver will be changed to 'lbfgs' in 0.22. Specify a solver to silence this warning.\n",
      "  FutureWarning)\n"
     ]
    },
    {
     "name": "stdout",
     "output_type": "stream",
     "text": [
      "CPU times: user 52.1 s, sys: 17.1 s, total: 1min 9s\n",
      "Wall time: 45.3 s\n"
     ]
    },
    {
     "data": {
      "text/plain": [
       "LogisticRegression(C=1.0, class_weight=None, dual=False, fit_intercept=True,\n",
       "                   intercept_scaling=1, l1_ratio=None, max_iter=100,\n",
       "                   multi_class='warn', n_jobs=None, penalty='l2',\n",
       "                   random_state=None, solver='warn', tol=0.0001, verbose=0,\n",
       "                   warm_start=False)"
      ]
     },
     "execution_count": 29,
     "metadata": {},
     "output_type": "execute_result"
    }
   ],
   "source": [
    "# fitting our logistic regression model on the CountVectorized train data\n",
    "%time logreg.fit(X_train_cv_dtm, y_train)"
   ]
  },
  {
   "cell_type": "code",
   "execution_count": 30,
   "metadata": {},
   "outputs": [],
   "source": [
    "# predicting the classes on the CountVectorized  test data using the logistic regression model\n",
    "y_pred_lr_test_cv = logreg.predict(X_test_cv_dtm)"
   ]
  },
  {
   "cell_type": "code",
   "execution_count": 31,
   "metadata": {},
   "outputs": [],
   "source": [
    "# predicting the probabilities on the CountVectorized test data using the logistic regression model\n",
    "y_pred_lr_test_cv_proba = logreg.predict_proba(X_test_cv_dtm)"
   ]
  },
  {
   "cell_type": "code",
   "execution_count": 32,
   "metadata": {},
   "outputs": [
    {
     "name": "stdout",
     "output_type": "stream",
     "text": [
      "0.9763023829087921\n"
     ]
    }
   ],
   "source": [
    "# Calculating accuracy of the logistic regression model on the CountVectorized test data\n",
    "accuracy_lr_test_cv = metrics.accuracy_score(y_test, y_pred_lr_test_cv)\n",
    "print(accuracy_lr_test_cv)"
   ]
  },
  {
   "cell_type": "code",
   "execution_count": 33,
   "metadata": {},
   "outputs": [
    {
     "name": "stdout",
     "output_type": "stream",
     "text": [
      "              precision    recall  f1-score   support\n",
      "\n",
      "           0       0.98      0.94      0.96      9348\n",
      "           1       0.97      0.99      0.98     21077\n",
      "\n",
      "    accuracy                           0.98     30425\n",
      "   macro avg       0.98      0.97      0.97     30425\n",
      "weighted avg       0.98      0.98      0.98     30425\n",
      "\n"
     ]
    }
   ],
   "source": [
    "# Calculating entire classification report for the CountVectorized test data of the logistic regression model\n",
    "print(classification_report(y_test, y_pred_lr_test_cv))"
   ]
  },
  {
   "cell_type": "code",
   "execution_count": 34,
   "metadata": {},
   "outputs": [
    {
     "data": {
      "text/plain": [
       "0.9896924695843423"
      ]
     },
     "execution_count": 34,
     "metadata": {},
     "output_type": "execute_result"
    }
   ],
   "source": [
    "# ROC_AUC score for the CountVectorized test data of the logistic regression model\n",
    "roc_auc_score(y_test, y_pred_lr_test_cv_proba[:,1])"
   ]
  },
  {
   "cell_type": "code",
   "execution_count": 36,
   "metadata": {},
   "outputs": [],
   "source": [
    "# predicting the classes on the CountVectorized train data using the logistic regression model\n",
    "y_pred_lr_train_cv = logreg.predict(X_train_cv_dtm)"
   ]
  },
  {
   "cell_type": "code",
   "execution_count": 37,
   "metadata": {},
   "outputs": [],
   "source": [
    "# predicting the probabilities on the train data using the CountVectorizer using the logistic regression model\n",
    "y_pred_lr_train_cv_proba = logreg.predict_proba(X_train_cv_dtm)"
   ]
  },
  {
   "cell_type": "code",
   "execution_count": 38,
   "metadata": {},
   "outputs": [
    {
     "name": "stdout",
     "output_type": "stream",
     "text": [
      "0.9849024355504914\n"
     ]
    }
   ],
   "source": [
    "# Calculating accuracy of the logistic regression model on the CountVectorized train data\n",
    "accuracy_lr_train_cv = metrics.accuracy_score(y_train, y_pred_lr_train_cv)\n",
    "print(accuracy_lr_train_cv)"
   ]
  },
  {
   "cell_type": "code",
   "execution_count": 39,
   "metadata": {},
   "outputs": [
    {
     "name": "stdout",
     "output_type": "stream",
     "text": [
      "              precision    recall  f1-score   support\n",
      "\n",
      "           0       0.99      0.96      0.97     27687\n",
      "           1       0.98      1.00      0.99     63586\n",
      "\n",
      "    accuracy                           0.98     91273\n",
      "   macro avg       0.99      0.98      0.98     91273\n",
      "weighted avg       0.98      0.98      0.98     91273\n",
      "\n"
     ]
    }
   ],
   "source": [
    "# Calculating entire classification report for the CountVectorized train data of the logistic regression model\n",
    "print(classification_report(y_train, y_pred_lr_train_cv))"
   ]
  },
  {
   "cell_type": "code",
   "execution_count": 40,
   "metadata": {},
   "outputs": [
    {
     "data": {
      "text/plain": [
       "0.9959457478732379"
      ]
     },
     "execution_count": 40,
     "metadata": {},
     "output_type": "execute_result"
    }
   ],
   "source": [
    "# ROC_AUC score for the CountVectorized train data of the logistic regression model\n",
    "roc_auc_score(y_train, y_pred_lr_train_cv_proba[:,1])"
   ]
  },
  {
   "cell_type": "markdown",
   "metadata": {},
   "source": [
    "# Logistic Regression with TF-IDF Vectorizer"
   ]
  },
  {
   "cell_type": "code",
   "execution_count": 42,
   "metadata": {},
   "outputs": [
    {
     "name": "stderr",
     "output_type": "stream",
     "text": [
      "/opt/anaconda3/lib/python3.7/site-packages/sklearn/linear_model/logistic.py:432: FutureWarning: Default solver will be changed to 'lbfgs' in 0.22. Specify a solver to silence this warning.\n",
      "  FutureWarning)\n"
     ]
    },
    {
     "name": "stdout",
     "output_type": "stream",
     "text": [
      "CPU times: user 18.1 s, sys: 18.1 s, total: 36.1 s\n",
      "Wall time: 40.9 s\n"
     ]
    },
    {
     "data": {
      "text/plain": [
       "LogisticRegression(C=1.0, class_weight=None, dual=False, fit_intercept=True,\n",
       "                   intercept_scaling=1, l1_ratio=None, max_iter=100,\n",
       "                   multi_class='warn', n_jobs=None, penalty='l2',\n",
       "                   random_state=None, solver='warn', tol=0.0001, verbose=0,\n",
       "                   warm_start=False)"
      ]
     },
     "execution_count": 42,
     "metadata": {},
     "output_type": "execute_result"
    }
   ],
   "source": [
    "# fitting our logistic regression model on the TF-IDF vectorized train data\n",
    "%time logreg.fit(X_train_tfidf_dtm, y_train)"
   ]
  },
  {
   "cell_type": "code",
   "execution_count": 43,
   "metadata": {},
   "outputs": [],
   "source": [
    "# predicting on the classes of TF-IDF vectorized test data  using the logistic regression model\n",
    "y_pred_lr_test_tfidf = logreg.predict(X_test_tfidf_dtm)"
   ]
  },
  {
   "cell_type": "code",
   "execution_count": 44,
   "metadata": {},
   "outputs": [],
   "source": [
    "# predicting the probabilities on the TF-IDF vectorized test data  using the logistic regression model\n",
    "y_pred_lr_test_tfidf_proba = logreg.predict_proba(X_test_tfidf_dtm)"
   ]
  },
  {
   "cell_type": "code",
   "execution_count": 45,
   "metadata": {},
   "outputs": [
    {
     "name": "stdout",
     "output_type": "stream",
     "text": [
      "0.9732456861133936\n"
     ]
    }
   ],
   "source": [
    "# Calculating accuracy of the logistic regression model on the TF-IDF vectorized test data\n",
    "accuracy_lr_test_tfidf = metrics.accuracy_score(y_test, y_pred_lr_test_tfidf)\n",
    "print(accuracy_lr_test_tfidf)"
   ]
  },
  {
   "cell_type": "code",
   "execution_count": 46,
   "metadata": {},
   "outputs": [
    {
     "name": "stdout",
     "output_type": "stream",
     "text": [
      "              precision    recall  f1-score   support\n",
      "\n",
      "           0       0.98      0.93      0.96      9348\n",
      "           1       0.97      0.99      0.98     21077\n",
      "\n",
      "    accuracy                           0.97     30425\n",
      "   macro avg       0.98      0.96      0.97     30425\n",
      "weighted avg       0.97      0.97      0.97     30425\n",
      "\n"
     ]
    }
   ],
   "source": [
    "# Calculating entire classification report for the TF-IDF Vectorized test data of the logistic regression model\n",
    "print(classification_report(y_test, y_pred_lr_test_tfidf))"
   ]
  },
  {
   "cell_type": "code",
   "execution_count": 47,
   "metadata": {},
   "outputs": [
    {
     "data": {
      "text/plain": [
       "0.9890151844362102"
      ]
     },
     "execution_count": 47,
     "metadata": {},
     "output_type": "execute_result"
    }
   ],
   "source": [
    "# ROC_AUC score for the TF-IDF Vectorized test data of the logistic regression model\n",
    "roc_auc_score(y_test, y_pred_lr_test_tfidf_proba[:,1])"
   ]
  },
  {
   "cell_type": "code",
   "execution_count": 49,
   "metadata": {},
   "outputs": [],
   "source": [
    "# predicting the classes on the TF-IDF Vectorized train data using the logistic regression model\n",
    "y_pred_lr_train_tfidf = logreg.predict(X_train_tfidf_dtm)"
   ]
  },
  {
   "cell_type": "code",
   "execution_count": 50,
   "metadata": {},
   "outputs": [],
   "source": [
    "# predicting the probabilities on the TF-IDF vectorized train data  using the logistic regression model\n",
    "y_pred_lr_train_tfidf_proba = logreg.predict_proba(X_train_tfidf_dtm)"
   ]
  },
  {
   "cell_type": "code",
   "execution_count": 51,
   "metadata": {},
   "outputs": [
    {
     "name": "stdout",
     "output_type": "stream",
     "text": [
      "0.9763895127803403\n"
     ]
    }
   ],
   "source": [
    "# Calculating accuracy of the logistic regression model on the TF-IDF vectorized train data\n",
    "accuracy_lr_train_tfidf = metrics.accuracy_score(y_train, y_pred_lr_train_tfidf)\n",
    "print(accuracy_lr_train_tfidf)"
   ]
  },
  {
   "cell_type": "code",
   "execution_count": 52,
   "metadata": {},
   "outputs": [
    {
     "name": "stdout",
     "output_type": "stream",
     "text": [
      "              precision    recall  f1-score   support\n",
      "\n",
      "           0       0.99      0.93      0.96     27687\n",
      "           1       0.97      0.99      0.98     63586\n",
      "\n",
      "    accuracy                           0.98     91273\n",
      "   macro avg       0.98      0.96      0.97     91273\n",
      "weighted avg       0.98      0.98      0.98     91273\n",
      "\n"
     ]
    }
   ],
   "source": [
    "# Calculating entire classification report for the TF-IDF Vectorized train data of the logistic regression model\n",
    "print(classification_report(y_train, y_pred_lr_train_tfidf))"
   ]
  },
  {
   "cell_type": "code",
   "execution_count": 53,
   "metadata": {},
   "outputs": [
    {
     "data": {
      "text/plain": [
       "0.9890151844362102"
      ]
     },
     "execution_count": 53,
     "metadata": {},
     "output_type": "execute_result"
    }
   ],
   "source": [
    "# ROC_AUC score for the TF-IDF Vectorized train data of the logistic regression model\n",
    "roc_auc_score(y_test, y_pred_lr_test_tfidf_proba[:,1])"
   ]
  },
  {
   "cell_type": "markdown",
   "metadata": {},
   "source": [
    "The classification metrics between the train and the test data are pretty much the same which means that there is no overfitting."
   ]
  },
  {
   "cell_type": "markdown",
   "metadata": {},
   "source": [
    "# Random Forest with CountVectorizer"
   ]
  },
  {
   "cell_type": "code",
   "execution_count": 54,
   "metadata": {},
   "outputs": [],
   "source": [
    "# Creating an instance of the Random forest model\n",
    "rf = RandomForestClassifier()\n"
   ]
  },
  {
   "cell_type": "code",
   "execution_count": 55,
   "metadata": {},
   "outputs": [
    {
     "name": "stderr",
     "output_type": "stream",
     "text": [
      "/opt/anaconda3/lib/python3.7/site-packages/sklearn/ensemble/forest.py:245: FutureWarning: The default value of n_estimators will change from 10 in version 0.20 to 100 in 0.22.\n",
      "  \"10 in version 0.20 to 100 in 0.22.\", FutureWarning)\n"
     ]
    },
    {
     "name": "stdout",
     "output_type": "stream",
     "text": [
      "CPU times: user 2min 53s, sys: 10.6 s, total: 3min 4s\n",
      "Wall time: 3min 13s\n"
     ]
    },
    {
     "data": {
      "text/plain": [
       "RandomForestClassifier(bootstrap=True, class_weight=None, criterion='gini',\n",
       "                       max_depth=None, max_features='auto', max_leaf_nodes=None,\n",
       "                       min_impurity_decrease=0.0, min_impurity_split=None,\n",
       "                       min_samples_leaf=1, min_samples_split=2,\n",
       "                       min_weight_fraction_leaf=0.0, n_estimators=10,\n",
       "                       n_jobs=None, oob_score=False, random_state=None,\n",
       "                       verbose=0, warm_start=False)"
      ]
     },
     "execution_count": 55,
     "metadata": {},
     "output_type": "execute_result"
    }
   ],
   "source": [
    "# fitting our Random forest model on the CountVectorized train data\n",
    "%time rf.fit(X_train_cv_dtm, y_train)"
   ]
  },
  {
   "cell_type": "code",
   "execution_count": 56,
   "metadata": {},
   "outputs": [],
   "source": [
    "# predicting the classes on the CountVectorized test data using the Random forest model\n",
    "y_pred_rf_test_cv = rf.predict(X_test_cv_dtm)"
   ]
  },
  {
   "cell_type": "code",
   "execution_count": 57,
   "metadata": {},
   "outputs": [],
   "source": [
    "# predicting the probabilities on the CountVectorized test data using the Random forest model\n",
    "y_pred_rf_test_cv_proba = rf.predict_proba(X_test_cv_dtm)"
   ]
  },
  {
   "cell_type": "code",
   "execution_count": 58,
   "metadata": {},
   "outputs": [
    {
     "name": "stdout",
     "output_type": "stream",
     "text": [
      "0.9748562037797863\n"
     ]
    }
   ],
   "source": [
    "# Calculating accuracy of the Random forest model on the CountVectorized test data\n",
    "accuracy_rf_test_cv = metrics.accuracy_score(y_test, y_pred_rf_test_cv)\n",
    "print(accuracy_rf_test_cv)"
   ]
  },
  {
   "cell_type": "code",
   "execution_count": 59,
   "metadata": {},
   "outputs": [
    {
     "name": "stdout",
     "output_type": "stream",
     "text": [
      "              precision    recall  f1-score   support\n",
      "\n",
      "           0       0.97      0.94      0.96      9348\n",
      "           1       0.98      0.99      0.98     21077\n",
      "\n",
      "    accuracy                           0.97     30425\n",
      "   macro avg       0.97      0.97      0.97     30425\n",
      "weighted avg       0.97      0.97      0.97     30425\n",
      "\n"
     ]
    }
   ],
   "source": [
    "# Calculating entire classification report for the CountVectorized test data of the Random forest model\n",
    "print(classification_report(y_test, y_pred_rf_test_cv))"
   ]
  },
  {
   "cell_type": "code",
   "execution_count": 60,
   "metadata": {},
   "outputs": [
    {
     "data": {
      "text/plain": [
       "0.986265727197192"
      ]
     },
     "execution_count": 60,
     "metadata": {},
     "output_type": "execute_result"
    }
   ],
   "source": [
    "# ROC_AUC score for the CountVectorized test data of the Random forest model\n",
    "roc_auc_score(y_test, y_pred_rf_test_cv_proba[:,1])"
   ]
  },
  {
   "cell_type": "code",
   "execution_count": 62,
   "metadata": {},
   "outputs": [],
   "source": [
    "# predicting on the CountVectorized train data using the Random forest model\n",
    "y_pred_rf_train_cv = rf.predict(X_train_cv_dtm)"
   ]
  },
  {
   "cell_type": "code",
   "execution_count": 66,
   "metadata": {},
   "outputs": [],
   "source": [
    "# predicting the probabilities on the CountVectorized test data using the Random forest model\n",
    "y_pred_rf_train_cv_proba = rf.predict_proba(X_train_cv_dtm)"
   ]
  },
  {
   "cell_type": "code",
   "execution_count": 63,
   "metadata": {},
   "outputs": [
    {
     "name": "stdout",
     "output_type": "stream",
     "text": [
      "0.9968117625146539\n"
     ]
    }
   ],
   "source": [
    "# Calculating accuracy of the Random forest model on the CountVectorized train data\n",
    "accuracy_rf_train_cv = metrics.accuracy_score(y_train, y_pred_rf_train_cv)\n",
    "print(accuracy_rf_train_cv)"
   ]
  },
  {
   "cell_type": "code",
   "execution_count": 64,
   "metadata": {},
   "outputs": [
    {
     "name": "stdout",
     "output_type": "stream",
     "text": [
      "              precision    recall  f1-score   support\n",
      "\n",
      "           0       1.00      0.99      0.99     27687\n",
      "           1       1.00      1.00      1.00     63586\n",
      "\n",
      "    accuracy                           1.00     91273\n",
      "   macro avg       1.00      1.00      1.00     91273\n",
      "weighted avg       1.00      1.00      1.00     91273\n",
      "\n"
     ]
    }
   ],
   "source": [
    "# Calculating entire classification report for the CountVectorized train data of the Random forest model\n",
    "print(classification_report(y_train, y_pred_rf_train_cv))"
   ]
  },
  {
   "cell_type": "code",
   "execution_count": 67,
   "metadata": {},
   "outputs": [
    {
     "data": {
      "text/plain": [
       "0.9997961366872847"
      ]
     },
     "execution_count": 67,
     "metadata": {},
     "output_type": "execute_result"
    }
   ],
   "source": [
    "# ROC_AUC score for the CountVectorized train data of the Random forest model\n",
    "roc_auc_score(y_train, y_pred_rf_train_cv_proba[:,1])"
   ]
  },
  {
   "cell_type": "markdown",
   "metadata": {},
   "source": [
    "# Random Forest with TF-IDF Vectorizer\n"
   ]
  },
  {
   "cell_type": "code",
   "execution_count": 68,
   "metadata": {},
   "outputs": [
    {
     "name": "stdout",
     "output_type": "stream",
     "text": [
      "CPU times: user 4min 18s, sys: 57.2 s, total: 5min 15s\n",
      "Wall time: 6min 9s\n"
     ]
    },
    {
     "data": {
      "text/plain": [
       "RandomForestClassifier(bootstrap=True, class_weight=None, criterion='gini',\n",
       "                       max_depth=None, max_features='auto', max_leaf_nodes=None,\n",
       "                       min_impurity_decrease=0.0, min_impurity_split=None,\n",
       "                       min_samples_leaf=1, min_samples_split=2,\n",
       "                       min_weight_fraction_leaf=0.0, n_estimators=10,\n",
       "                       n_jobs=None, oob_score=False, random_state=None,\n",
       "                       verbose=0, warm_start=False)"
      ]
     },
     "execution_count": 68,
     "metadata": {},
     "output_type": "execute_result"
    }
   ],
   "source": [
    "# fitting our logistic regression model on the TF-IDF vectorized train data\n",
    "%time rf.fit(X_train_tfidf_dtm, y_train)"
   ]
  },
  {
   "cell_type": "code",
   "execution_count": 69,
   "metadata": {},
   "outputs": [],
   "source": [
    "# predicting classes on the TF-IDF vectorized test data  using the Random forest model\n",
    "y_pred_rf_test_tfidf = rf.predict(X_test_tfidf_dtm)"
   ]
  },
  {
   "cell_type": "code",
   "execution_count": 70,
   "metadata": {},
   "outputs": [],
   "source": [
    "# predicting the probabilities on the TF-IDF vectorized test data  using the Random forest model\n",
    "y_pred_rf_test_tfidf_proba = rf.predict_proba(X_test_tfidf_dtm)"
   ]
  },
  {
   "cell_type": "code",
   "execution_count": 71,
   "metadata": {},
   "outputs": [
    {
     "name": "stdout",
     "output_type": "stream",
     "text": [
      "0.9736400986031224\n"
     ]
    }
   ],
   "source": [
    "# Calculating accuracy of the random forest model on the TF-IDF vectorized test data\n",
    "accuracy_rf_test_tfidf = metrics.accuracy_score(y_test, y_pred_rf_test_tfidf)\n",
    "print(accuracy_rf_test_tfidf)"
   ]
  },
  {
   "cell_type": "code",
   "execution_count": 72,
   "metadata": {},
   "outputs": [
    {
     "name": "stdout",
     "output_type": "stream",
     "text": [
      "              precision    recall  f1-score   support\n",
      "\n",
      "           0       0.98      0.94      0.96      9348\n",
      "           1       0.97      0.99      0.98     21077\n",
      "\n",
      "    accuracy                           0.97     30425\n",
      "   macro avg       0.97      0.96      0.97     30425\n",
      "weighted avg       0.97      0.97      0.97     30425\n",
      "\n"
     ]
    }
   ],
   "source": [
    "# Calculating entire classification report for the TF-IDF Vectorized test data of the Random forest model\n",
    "print(classification_report(y_test, y_pred_rf_test_tfidf))"
   ]
  },
  {
   "cell_type": "code",
   "execution_count": 73,
   "metadata": {},
   "outputs": [
    {
     "data": {
      "text/plain": [
       "0.9859789123358007"
      ]
     },
     "execution_count": 73,
     "metadata": {},
     "output_type": "execute_result"
    }
   ],
   "source": [
    "# ROC_AUC score for the TF-IDF Vectorized test data of the Random forest model\n",
    "roc_auc_score(y_test, y_pred_rf_test_tfidf_proba[:,1])"
   ]
  },
  {
   "cell_type": "code",
   "execution_count": 74,
   "metadata": {},
   "outputs": [],
   "source": [
    "# predicting classes on the TF-IDF Vectorized train data using the Random forest model\n",
    "y_pred_rf_train_tfidf = rf.predict(X_train_tfidf_dtm)"
   ]
  },
  {
   "cell_type": "code",
   "execution_count": 75,
   "metadata": {},
   "outputs": [],
   "source": [
    "# predicting the probabilities on the TF-IDF vectorized train data  using the Random forest model\n",
    "y_pred_rf_train_tfidf_proba = rf.predict_proba(X_train_tfidf_dtm)"
   ]
  },
  {
   "cell_type": "code",
   "execution_count": 76,
   "metadata": {},
   "outputs": [
    {
     "name": "stdout",
     "output_type": "stream",
     "text": [
      "0.9969541923679511\n"
     ]
    }
   ],
   "source": [
    "# Calculating accuracy of the Random forest model on the TF-IDF vectorized train data\n",
    "accuracy_rf_train_tfidf = metrics.accuracy_score(y_train, y_pred_rf_train_tfidf)\n",
    "print(accuracy_rf_train_tfidf)"
   ]
  },
  {
   "cell_type": "code",
   "execution_count": 77,
   "metadata": {},
   "outputs": [
    {
     "name": "stdout",
     "output_type": "stream",
     "text": [
      "              precision    recall  f1-score   support\n",
      "\n",
      "           0       1.00      0.99      0.99     27687\n",
      "           1       1.00      1.00      1.00     63586\n",
      "\n",
      "    accuracy                           1.00     91273\n",
      "   macro avg       1.00      1.00      1.00     91273\n",
      "weighted avg       1.00      1.00      1.00     91273\n",
      "\n"
     ]
    }
   ],
   "source": [
    "# Calculating entire classification report for the TF-IDF Vectorized train data of the Random forest model\n",
    "print(classification_report(y_train, y_pred_rf_train_tfidf))"
   ]
  },
  {
   "cell_type": "code",
   "execution_count": 78,
   "metadata": {},
   "outputs": [
    {
     "data": {
      "text/plain": [
       "0.9997129708049969"
      ]
     },
     "execution_count": 78,
     "metadata": {},
     "output_type": "execute_result"
    }
   ],
   "source": [
    "# ROC_AUC score for the TF-IDF Vectorized train data of the Random forest model\n",
    "roc_auc_score(y_train, y_pred_rf_train_tfidf_proba[:,1])"
   ]
  },
  {
   "cell_type": "markdown",
   "metadata": {},
   "source": [
    "The accuracy score, ROC_AUC scores, classification metrics for both the classes in terms of recall, precision , F1 score and Area under the curve are pretty much the same for both logistic regression model and random forest model.\n",
    "\n",
    "Random forest model is known to be more robust and it is expected to perform well even if we feed more data to it. The text pre-processing technique or the vectorizer that i would like to go with is TF-IDF vectorizer because it takes less time to compute and also it took only 32822 features or columns to deliver good results compared to 2016861 features used by the count vectorizer . This helped because it prevents the kernel from crashing on the jupyter python notebook. My kernel kept crashing with count vectorizer because it happened to use too much numeric features or columns. But after removing the ngrams parameter from the count vectorizer , the number of features taken into consideration came down and then the kernel became relatively stable without crashing any further.\n",
    "\n",
    "The accuracy and the ROC AUC scores of count vectorizer are relatively little better compared to TF-IDF vectorizer but I would like to still go with TF-IDF vectorizer because it is less draining on the memory and computation resources. \n",
    "\n",
    "Logistic regressionn wih the TF-IDF vectorizer had the best timing as it took less time compared to others.\n",
    "For this particular use , the combination of logistic regression and TF-IDF had the best overall performance .\n",
    "\n",
    "So I would like to go with logistic regression with TF-IDF because they take less amount of time with less resources with overall good performance.\n"
   ]
  },
  {
   "cell_type": "code",
   "execution_count": null,
   "metadata": {},
   "outputs": [],
   "source": []
  },
  {
   "cell_type": "code",
   "execution_count": null,
   "metadata": {},
   "outputs": [],
   "source": []
  },
  {
   "cell_type": "code",
   "execution_count": null,
   "metadata": {},
   "outputs": [],
   "source": []
  },
  {
   "cell_type": "code",
   "execution_count": null,
   "metadata": {},
   "outputs": [],
   "source": []
  },
  {
   "cell_type": "code",
   "execution_count": null,
   "metadata": {},
   "outputs": [],
   "source": []
  },
  {
   "cell_type": "code",
   "execution_count": null,
   "metadata": {},
   "outputs": [],
   "source": []
  },
  {
   "cell_type": "code",
   "execution_count": null,
   "metadata": {},
   "outputs": [],
   "source": []
  },
  {
   "cell_type": "code",
   "execution_count": null,
   "metadata": {},
   "outputs": [],
   "source": []
  }
 ],
 "metadata": {
  "kernelspec": {
   "display_name": "Python 3",
   "language": "python",
   "name": "python3"
  },
  "language_info": {
   "codemirror_mode": {
    "name": "ipython",
    "version": 3
   },
   "file_extension": ".py",
   "mimetype": "text/x-python",
   "name": "python",
   "nbconvert_exporter": "python",
   "pygments_lexer": "ipython3",
   "version": "3.7.4"
  }
 },
 "nbformat": 4,
 "nbformat_minor": 2
}
