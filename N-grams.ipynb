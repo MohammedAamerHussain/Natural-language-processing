{
 "cells": [
  {
   "cell_type": "markdown",
   "metadata": {},
   "source": [
    "# Article similarity"
   ]
  },
  {
   "cell_type": "code",
   "execution_count": 1,
   "metadata": {},
   "outputs": [],
   "source": [
    "from __future__ import division\n",
    "import numpy as np\n",
    "import pandas as pd\n",
    "import nltk\n",
    "from itertools import combinations\n",
    "import os\n",
    "import string\n",
    "import os\n",
    "from nltk.corpus import stopwords\n",
    "from itertools import combinations\n",
    "import matplotlib.pyplot as plt\n"
   ]
  },
  {
   "cell_type": "code",
   "execution_count": 2,
   "metadata": {},
   "outputs": [],
   "source": [
    "base_dir = '/Users/mohammedhussain/Desktop/UCHICAGO assigments/NLP/asssignment 3/'\n",
    "articles_dir = 'Assignment 3 Articles'\n",
    "books_dir = 'Assignment 3 Books'"
   ]
  },
  {
   "cell_type": "markdown",
   "metadata": {},
   "source": [
    "# Defining Functions"
   ]
  },
  {
   "cell_type": "code",
   "execution_count": 3,
   "metadata": {},
   "outputs": [],
   "source": [
    "def ngram_compare_files(file1,file2,n):\n",
    "    # Takes two files\n",
    "    # hashes their n-grams into twos lists\n",
    "    # calculates the intersection and union\n",
    "    # of the two lists, and returns\n",
    "    # Jacard similarity value\n",
    " \n",
    "    stop = stopwords.words('english')\n",
    "    f1 = open(file1)\n",
    "    raw = f1.read()\n",
    "    f1.close()\n",
    "    f1_grams = nltk.ngrams(raw.split(),n)\n",
    "    \n",
    "    array_1 = []\n",
    "    \n",
    "    for gram in f1_grams:\n",
    "        array_1.append(hash(gram))\n",
    "    f2 = open(file2)\n",
    "    raw = f2.read()\n",
    "    f2.close()\n",
    "    f2_grams = nltk.ngrams(raw.split(),n)\n",
    "    \n",
    "    array_2 = []\n",
    "    \n",
    "    for gram in f2_grams:\n",
    "        array_2.append(hash(gram))\n",
    "        \n",
    "    intersection = len(list(set(array_1).intersection(array_2)))    \n",
    "    union = len(set(array_1)) + len(set(array_2)) - intersection\n",
    "    jacard_similarity = intersection / union\n",
    "    return jacard_similarity\n",
    "\n",
    "\n",
    "def pairs_of_files(directory):\n",
    "    # returns combination of two files given\n",
    "    # all files in a directory\n",
    "    \n",
    "    dir = os.listdir(directory)\n",
    "    combo = combinations(dir, 2)\n",
    "    return combo\n",
    "\n",
    "def compare_files(directory,ngram_size,threshold):\n",
    "    # compares all pairs of files in a directory\n",
    "    # for similarity.\n",
    "    # RETURNS: Dictionary, with key as\n",
    "    # comma-separated string of two files\n",
    "    # and value of similarity index as decimal\n",
    "    # where similarity index is above threshold\n",
    "    # value.\n",
    "    \n",
    "    compare_dictionary = {}\n",
    "    \n",
    "    ngram = ngram_size\n",
    "    combo = pairs_of_files(directory)\n",
    "    \n",
    "    for i in combo:\n",
    "        \n",
    "        sim = ngram_compare_files(directory+str(i[0]),directory+str(i[1]),ngram)\n",
    "        if sim > threshold:\n",
    "            \n",
    "            key = str(i[0]) + \",\" + str(i[1])\n",
    "            value = sim\n",
    "            compare_dictionary[key]=value\n",
    "            \n",
    "    return compare_dictionary            "
   ]
  },
  {
   "cell_type": "markdown",
   "metadata": {},
   "source": [
    "# Choosing 'N' for N Grams"
   ]
  },
  {
   "cell_type": "markdown",
   "metadata": {},
   "source": [
    "In order to determine a proper N-value for a n-grams, we evaluate the impact of N over a range of 2 to 21. We do this by repeating our similarity measure (Jaccardian similarity) for each N, and plotting similairity."
   ]
  },
  {
   "cell_type": "markdown",
   "metadata": {},
   "source": [
    "## Running for Books"
   ]
  },
  {
   "cell_type": "code",
   "execution_count": 17,
   "metadata": {},
   "outputs": [],
   "source": [
    "ax = []\n",
    "ay = []\n",
    "yall = []\n",
    "\n",
    "for n in range(2,21):\n",
    "        \n",
    "    books_comparison = compare_files('/Users/mohammedhussain/Desktop/UCHICAGO assigments/NLP/asssignment 3/Assignment 3 Books/',ngram_size=n,threshold=-1)\n",
    "    a = np.zeros(len(books_comparison))\n",
    "    counter = 0\n",
    "    for key, value in books_comparison.items():\n",
    "        a[counter] = value\n",
    "        counter +=1\n",
    "    #print str(n) + \":\" + str(a.mean())\n",
    "    ax.append(n)\n",
    "    yall.append(a*100)\n",
    "    ay.append(a.mean()*100)"
   ]
  },
  {
   "cell_type": "markdown",
   "metadata": {},
   "source": [
    "Plotting the distributions"
   ]
  },
  {
   "cell_type": "code",
   "execution_count": 18,
   "metadata": {},
   "outputs": [
    {
     "data": {
      "image/png": "[encoded data removed]",
      "text/plain": [
       "<Figure size 432x288 with 1 Axes>"
      ]
     },
     "metadata": {
      "needs_background": "light"
     },
     "output_type": "display_data"
    }
   ],
   "source": [
    "plt.plot(ax,ay, linestyle = '-')\n",
    "#plt.plot(x,yall, linestyle = '--')\n",
    "plt.xlabel('n in n-grams')\n",
    "plt.ylabel('Similarity (pct)')\n",
    "plt.title('Similarity Across All Books per N n-gram')\n",
    "plt.grid()\n",
    "plt.show()"
   ]
  },
  {
   "cell_type": "markdown",
   "metadata": {},
   "source": [
    "Here we have to choose a point of inflection or a point of separation or boundary that clearly differentiates between \"too similar\" and \"not at all similar\"  documents. We observe that the point of inflection is somewhere at n = 4 or n = 5. I will be going with n = 4 since that is where we notice an elbow. It has to be noted that the levels of similarity reaches to zero with long grams. \n",
    "Hence N=4 is chosen."
   ]
  },
  {
   "cell_type": "markdown",
   "metadata": {},
   "source": [
    "## Running for Articles"
   ]
  },
  {
   "cell_type": "code",
   "execution_count": 19,
   "metadata": {},
   "outputs": [],
   "source": [
    "bx = []\n",
    "by = []\n",
    "yall = []\n",
    "\n",
    "for n in range(2,20):\n",
    "    \n",
    "    art_comparison = compare_files('/Users/mohammedhussain/Desktop/UCHICAGO assigments/NLP/asssignment 3/Assignment 3 Articles/',ngram_size=n,threshold=-1)\n",
    "    a = np.zeros(len(art_comparison))\n",
    "    counter = 0\n",
    "    for key, value in art_comparison.items():\n",
    "        a[counter] = value\n",
    "        counter +=1\n",
    "    #print str(n) + \":\" + str(a.mean())\n",
    "    bx.append(n)\n",
    "    yall.append(a*100)\n",
    "    by.append(a.mean()*100)"
   ]
  },
  {
   "cell_type": "code",
   "execution_count": 21,
   "metadata": {},
   "outputs": [
    {
     "data": {
      "image/png": "[encoded data removed]",
      "text/plain": [
       "<Figure size 432x288 with 1 Axes>"
      ]
     },
     "metadata": {
      "needs_background": "light"
     },
     "output_type": "display_data"
    }
   ],
   "source": [
    "plt.plot(bx,by, linestyle = '-')\n",
    "#plt.plot(x,yall, linestyle = '--')\n",
    "plt.xlabel('n in n-grams')\n",
    "plt.ylabel('Similarity (pct)')\n",
    "plt.title('Mean Similarity Across All Articles per N n-gram')\n",
    "plt.grid()\n",
    "plt.show()"
   ]
  },
  {
   "cell_type": "markdown",
   "metadata": {},
   "source": [
    "We should be looking out for the inflection point or a point of separation between too similar and not enough similarity(almost flat line). This is where we are optimally able to find similarity between different documents or artciles in this case. Therefore we choose  N=3 . \n",
    "It is quite obvious that a N-grams model with N=2 won't be  eliminating enough pairs but a N-grams model with N=3 seems to ride the line.\n",
    "\n",
    "It's quite interesting to note that the 'N' for books turned out to be longer than the articles as books are longer pieces of documents and therefore a larger 'N' is needed to capture the similarity between them. It is little surprising to notice that the 'N' value is just one number or unit more for books in comparison to articles which indicates that the books may not be much larger compared to artciles in our case.\n",
    "\n",
    "Hence N=3 is chosen"
   ]
  },
  {
   "cell_type": "markdown",
   "metadata": {},
   "source": [
    "# Books measuring similarity"
   ]
  },
  {
   "cell_type": "markdown",
   "metadata": {},
   "source": [
    "After having our n for books chosen as 4, we'll examine the similairty of our set of books, and use a threshold value of 0.0050( we need to look at the graph to find the inflection point and then find the threshold). This threshold value will filter our any books with similarities below that value, in order to allow us to focus on the most promininent combinations of books that are similar."
   ]
  },
  {
   "cell_type": "markdown",
   "metadata": {},
   "source": [
    "We have chosen a threshold value of 0.0050 which is much higher than the value corresponding to the '4' in N-grams(0.0015) on the graph is because we want to  look out for the books that are similar. At the threshold value of 0.0015 we only get the books that are neither similar nor dissimilar. That is the reason a threshold value of 0.0050 is chosen."
   ]
  },
  {
   "cell_type": "code",
   "execution_count": 22,
   "metadata": {},
   "outputs": [
    {
     "name": "stdout",
     "output_type": "stream",
     "text": [
      "Adventures_of_Sherlock_Holmes.txt is similar to Return_of_Sherlock_Holmes.txt with a Similarity Index of 2.332%\n",
      "\n",
      "\n",
      "Adventures_of_Sherlock_Holmes.txt is similar to Hound_of_the_Baskervilles.txt with a Similarity Index of 2.444%\n",
      "\n",
      "\n",
      "Return_of_Sherlock_Holmes.txt is similar to Hound_of_the_Baskervilles.txt with a Similarity Index of 2.430%\n",
      "\n",
      "\n"
     ]
    }
   ],
   "source": [
    "books_comparison = compare_files('/Users/mohammedhussain/Desktop/UCHICAGO assigments/NLP/asssignment 3/Assignment 3 Books/',ngram_size=4,threshold=0.0050)\n",
    "\n",
    "for k,v in books_comparison.items():\n",
    "    book1, book2 = k.split(',')\n",
    "    similarity_index = v\n",
    "    print (str(book1) + \" is similar to \" + str(book2) + \n",
    "           \" with a Similarity Index of \" + '{percent:.3%}'.format(percent=similarity_index) +\"\\n\" +\"\\n\")"
   ]
  },
  {
   "cell_type": "code",
   "execution_count": 23,
   "metadata": {},
   "outputs": [
    {
     "data": {
      "text/plain": [
       "{'Adventures_of_Sherlock_Holmes.txt,Return_of_Sherlock_Holmes.txt': 0.023318951117719297,\n",
       " 'Adventures_of_Sherlock_Holmes.txt,Hound_of_the_Baskervilles.txt': 0.024436600597339125,\n",
       " 'Return_of_Sherlock_Holmes.txt,Hound_of_the_Baskervilles.txt': 0.0243031158295003}"
      ]
     },
     "execution_count": 23,
     "metadata": {},
     "output_type": "execute_result"
    }
   ],
   "source": [
    "books_similar_n4 = compare_files('/Users/mohammedhussain/Desktop/UCHICAGO assigments/NLP/asssignment 3/Assignment 3 Books/',ngram_size=4,threshold=0.0050)\n",
    "books_similar_n4"
   ]
  },
  {
   "cell_type": "code",
   "execution_count": 24,
   "metadata": {},
   "outputs": [
    {
     "data": {
      "text/plain": [
       "0.7930029081702493"
      ]
     },
     "execution_count": 24,
     "metadata": {},
     "output_type": "execute_result"
    }
   ],
   "source": [
    "ay[4]"
   ]
  },
  {
   "cell_type": "code",
   "execution_count": 25,
   "metadata": {},
   "outputs": [
    {
     "data": {
      "text/plain": [
       "3.7697336466527895"
      ]
     },
     "execution_count": 25,
     "metadata": {},
     "output_type": "execute_result"
    }
   ],
   "source": [
    "ay[1]"
   ]
  },
  {
   "cell_type": "markdown",
   "metadata": {},
   "source": [
    "It turns out all the sherlock holmes were similar to each other."
   ]
  },
  {
   "cell_type": "markdown",
   "metadata": {},
   "source": [
    "# Books measuring Dissimilarity or Dissimilar books"
   ]
  },
  {
   "cell_type": "markdown",
   "metadata": {},
   "source": [
    "we chose here 0.000027 as a threshold to find the dissimilar books although our N-grams value is 4 because we want to find the documents that are extremely dissimilar on the other end of the spectrum. At 0.0015 corresponding to the value of the 4 in 'N-grams' , we will only find the documents are on the verge of being similar and also dissimilar."
   ]
  },
  {
   "cell_type": "code",
   "execution_count": 96,
   "metadata": {},
   "outputs": [
    {
     "data": {
      "text/plain": [
       "0.0008270230348161322"
      ]
     },
     "execution_count": 96,
     "metadata": {},
     "output_type": "execute_result"
    }
   ],
   "source": [
    "ay[17]"
   ]
  },
  {
   "cell_type": "code",
   "execution_count": 97,
   "metadata": {},
   "outputs": [
    {
     "data": {
      "text/plain": [
       "0.0015350613146298039"
      ]
     },
     "execution_count": 97,
     "metadata": {},
     "output_type": "execute_result"
    }
   ],
   "source": [
    "ay[4]"
   ]
  },
  {
   "cell_type": "code",
   "execution_count": 31,
   "metadata": {},
   "outputs": [
    {
     "name": "stdout",
     "output_type": "stream",
     "text": [
      "Hound_of_the_Baskervilles.txt is dissimilar to 3boat10.txt with a Dissimilarity Index of 0.292%\n",
      "\n",
      "\n",
      "Return_of_Sherlock_Holmes.txt is dissimilar to 3boat10.txt with a Dissimilarity Index of 0.356%\n",
      "\n",
      "\n",
      "Adventures_of_Sherlock_Holmes.txt is dissimilar to 3boat10.txt with a Dissimilarity Index of 0.397%\n",
      "\n",
      "\n",
      "Adventures_of_Sherlock_Holmes.txt is dissimilar to Return_of_Sherlock_Holmes.txt with a Dissimilarity Index of 2.332%\n",
      "\n",
      "\n",
      "Return_of_Sherlock_Holmes.txt is dissimilar to Hound_of_the_Baskervilles.txt with a Dissimilarity Index of 2.430%\n",
      "\n",
      "\n",
      "Adventures_of_Sherlock_Holmes.txt is dissimilar to Hound_of_the_Baskervilles.txt with a Dissimilarity Index of 2.444%\n",
      "\n",
      "\n"
     ]
    }
   ],
   "source": [
    "books_comparison = compare_files('/Users/mohammedhussain/Desktop/UCHICAGO assigments/NLP/asssignment 3/Assignment 3 Books/',ngram_size=4,threshold=0.000027)\n",
    "\n",
    "for k,v in sorted(books_comparison.items() , key = lambda kv:kv[1],reverse = False):\n",
    "    book1, book2 = k.split(',')\n",
    "    dissimilarity_index = v \n",
    "    print (str(book1) + \" is dissimilar to \" + str(book2) + \n",
    "           \" with a Dissimilarity Index of \" + '{percent:.3%}'.format(percent=dissimilarity_index) +\"\\n\" +\"\\n\")"
   ]
  },
  {
   "cell_type": "markdown",
   "metadata": {},
   "source": [
    "Now we see a totally different sequence of books comparisons while measuring dissimilarity"
   ]
  },
  {
   "cell_type": "markdown",
   "metadata": {},
   "source": [
    "# Articles measuring similarity"
   ]
  },
  {
   "cell_type": "markdown",
   "metadata": {},
   "source": [
    "After having our n for articles chosen as 3, we'll examine the similairty of our set of articles, and use a threshold value of 0.085 in order to get the top 5 similar articles. This threshold value will filter our any articles with similarities below that value, in order to allow us to focus on the most promininent combinations of articles that are similar."
   ]
  },
  {
   "cell_type": "code",
   "execution_count": 32,
   "metadata": {},
   "outputs": [
    {
     "name": "stdout",
     "output_type": "stream",
     "text": [
      "article17.txt is similar to article16.txt with a Similarity Index of 72.589%\n",
      "article10.txt is similar to article13.txt with a Similarity Index of 21.798%\n",
      "article4.txt is similar to article3.txt with a Similarity Index of 13.592%\n",
      "article26.txt is similar to article28.txt with a Similarity Index of 9.790%\n",
      "article31.txt is similar to article28.txt with a Similarity Index of 8.621%\n"
     ]
    }
   ],
   "source": [
    "articles_comparison = compare_files('/Users/mohammedhussain/Desktop/UCHICAGO assigments/NLP/asssignment 3/Assignment 3 Articles/',ngram_size=3,threshold=0.085)\n",
    "\n",
    "for k,v in sorted(articles_comparison.items() , key = lambda kv:kv[1],reverse = True):\n",
    "    art1, art2 = k.split(',')\n",
    "    similarity_index = v\n",
    "    print (str(art1) + \" is similar to \" + str(art2) + \n",
    "           \" with a Similarity Index of \" + '{percent:.3%}'.format(percent=similarity_index))"
   ]
  },
  {
   "cell_type": "code",
   "execution_count": 33,
   "metadata": {},
   "outputs": [
    {
     "data": {
      "text/plain": [
       "0.2829374875878607"
      ]
     },
     "execution_count": 33,
     "metadata": {},
     "output_type": "execute_result"
    }
   ],
   "source": [
    "by[1]"
   ]
  },
  {
   "cell_type": "code",
   "execution_count": 34,
   "metadata": {},
   "outputs": [
    {
     "data": {
      "text/plain": [
       "0.1592294039682459"
      ]
     },
     "execution_count": 34,
     "metadata": {},
     "output_type": "execute_result"
    }
   ],
   "source": [
    "by[3]"
   ]
  },
  {
   "cell_type": "code",
   "execution_count": 35,
   "metadata": {},
   "outputs": [
    {
     "data": {
      "text/plain": [
       "{'article31.txt,article28.txt': 0.08620689655172414,\n",
       " 'article26.txt,article28.txt': 0.0979020979020979,\n",
       " 'article10.txt,article13.txt': 0.21798365122615804,\n",
       " 'article17.txt,article16.txt': 0.7258883248730964,\n",
       " 'article4.txt,article3.txt': 0.13592233009708737}"
      ]
     },
     "execution_count": 35,
     "metadata": {},
     "output_type": "execute_result"
    }
   ],
   "source": [
    "article_similar_n3 = compare_files('/Users/mohammedhussain/Desktop/UCHICAGO assigments/NLP/asssignment 3/Assignment 3 Articles/', ngram_size=3,threshold=0.085)\n",
    "article_similar_n3"
   ]
  },
  {
   "cell_type": "code",
   "execution_count": 36,
   "metadata": {},
   "outputs": [
    {
     "data": {
      "text/html": [
       "<div>\n",
       "<style scoped>\n",
       "    .dataframe tbody tr th:only-of-type {\n",
       "        vertical-align: middle;\n",
       "    }\n",
       "\n",
       "    .dataframe tbody tr th {\n",
       "        vertical-align: top;\n",
       "    }\n",
       "\n",
       "    .dataframe thead th {\n",
       "        text-align: right;\n",
       "    }\n",
       "</style>\n",
       "<table border=\"1\" class=\"dataframe\">\n",
       "  <thead>\n",
       "    <tr style=\"text-align: right;\">\n",
       "      <th></th>\n",
       "      <th>compare</th>\n",
       "      <th>similarity</th>\n",
       "    </tr>\n",
       "  </thead>\n",
       "  <tbody>\n",
       "    <tr>\n",
       "      <td>3</td>\n",
       "      <td>article17.txt,article16.txt</td>\n",
       "      <td>0.725888</td>\n",
       "    </tr>\n",
       "    <tr>\n",
       "      <td>2</td>\n",
       "      <td>article10.txt,article13.txt</td>\n",
       "      <td>0.217984</td>\n",
       "    </tr>\n",
       "    <tr>\n",
       "      <td>4</td>\n",
       "      <td>article4.txt,article3.txt</td>\n",
       "      <td>0.135922</td>\n",
       "    </tr>\n",
       "    <tr>\n",
       "      <td>1</td>\n",
       "      <td>article26.txt,article28.txt</td>\n",
       "      <td>0.097902</td>\n",
       "    </tr>\n",
       "    <tr>\n",
       "      <td>0</td>\n",
       "      <td>article31.txt,article28.txt</td>\n",
       "      <td>0.086207</td>\n",
       "    </tr>\n",
       "  </tbody>\n",
       "</table>\n",
       "</div>"
      ],
      "text/plain": [
       "                       compare  similarity\n",
       "3  article17.txt,article16.txt    0.725888\n",
       "2  article10.txt,article13.txt    0.217984\n",
       "4    article4.txt,article3.txt    0.135922\n",
       "1  article26.txt,article28.txt    0.097902\n",
       "0  article31.txt,article28.txt    0.086207"
      ]
     },
     "execution_count": 36,
     "metadata": {},
     "output_type": "execute_result"
    }
   ],
   "source": [
    "df = pd.DataFrame({'compare':list(article_similar_n3.keys()), 'similarity':list(article_similar_n3.values())})\n",
    "df.sort_values('similarity', ascending=False).head(5)"
   ]
  },
  {
   "cell_type": "markdown",
   "metadata": {},
   "source": [
    "From the above sequence , it looks like article 17 and artcile 16 are the most similar.We have to validate this similarity claim by looking at the raw text. \n",
    "\n"
   ]
  },
  {
   "cell_type": "code",
   "execution_count": 37,
   "metadata": {},
   "outputs": [
    {
     "name": "stdout",
     "output_type": "stream",
     "text": [
      "A study group said the United States\n",
      "should increase its strategic petroleum reserve to one mln\n",
      "barrels as one way to deal with the present and future impact\n",
      "of low oil prices on the domestic oil industry.\n",
      "    U.S. policy now is to raise the strategic reserve to 750\n",
      "mln barrels, from its present 500 mln, to help protect the\n",
      "economy from an overseas embargo or a sharp price rise.\n",
      "    The Aspen Institute for Humanistic Studies, a private\n",
      "group, also called for new research for oil exploration and\n",
      "development techniques.\n",
      "    It predicted prices would remain at about 15-18 dlrs a\n",
      "barrel for several years and then rise to the mid 20s, with\n",
      "imports at about 30 pct of U.S. consumption.\n",
      "    The study cited two basic policy paths for the nation: to\n",
      "protect the U.S. industry through an import fee or other such\n",
      "device or to accept the full economic benefits of cheap oil.\n",
      "    But the group did not strongly back either option, saying\n",
      "there were benefits and drawbacks to both.\n",
      "    It said instead that such moves as increasing oil reserves\n",
      "and more exploration and development research would help to\n",
      "guard against or mitigate the risks of increased imports.\n",
      " Reuter\n",
      "\n",
      "A study group said the United States\n",
      "should increase its strategic petroleum reserve to one mln\n",
      "barrels as one way to deal with the present and future impact\n",
      "of low oil prices on the domestic oil industry.\n",
      "    U.S. policy now is to raise the strategic reserve to 750\n",
      "mln barrels, from its present 500 mln, to help protect the\n",
      "economy from an overseas embargo or a sharp price rise.\n",
      "    The Aspen Institute for Humanistic Studies, a private\n",
      "group, also called for new research for oil exploration and\n",
      "development techniques.\n",
      "    It predicted prices would remain at about 15-18 dlrs a\n",
      "barrel for several years and then rise to the mid 20s, with\n",
      "imports at about 30 pct of U.S. consumption.\n",
      "    It said instead that such moves as increasing oil reserves\n",
      "and more exploration and development research would help to\n",
      "guard against or mitigate the risks of increased imports.\n",
      " Reuter\n",
      "\n"
     ]
    }
   ],
   "source": [
    "with open(os.path.join('/Users/mohammedhussain/Desktop/UCHICAGO assigments/NLP/asssignment 3/Assignment 3 Articles/', 'article17.txt')) as f:\n",
    "    print(f.read())\n",
    "    \n",
    "with open(os.path.join('/Users/mohammedhussain/Desktop/UCHICAGO assigments/NLP/asssignment 3/Assignment 3 Articles/', 'article16.txt')) as f:\n",
    "    print(f.read())"
   ]
  },
  {
   "cell_type": "markdown",
   "metadata": {},
   "source": [
    "They are almost the same article except for the fact that article 17 has few extra paragraphs placed in between . So are results looks technically correct."
   ]
  },
  {
   "cell_type": "markdown",
   "metadata": {},
   "source": [
    "Now lets look at the fifth most similar article which are article 31 and article 28"
   ]
  },
  {
   "cell_type": "code",
   "execution_count": 38,
   "metadata": {},
   "outputs": [
    {
     "name": "stdout",
     "output_type": "stream",
     "text": [
      "A group of affiliated Miami-based\n",
      "investment firms led by Fundamental Management Corp said it\n",
      "raised its stake in Robeson Industries Corp to 238,000 shares,\n",
      "or 14.6 pct of the total, from 205,000 or 12.8 pct.\n",
      "    In a filing with the Securities and Exchange Commission,\n",
      "the group said it bought 32,800 Robeson common shares between\n",
      "Jan 26 and Feb 9 for 175,691 dlrs.\n",
      "    The group said it may buy more shares and plans to study\n",
      "Robeson's operations. Afterwards it may recommend that\n",
      "management make changes in its operations. Fundamental\n",
      "Management Chairman Carl Singer was recently elected to the\n",
      "Robeson board.\n",
      " Reuter\n",
      "\n",
      "Industrial Equity (Pacific) Ltd, a\n",
      "Hong Kong investment firm, said it raised its stake in Wrather\n",
      "Corp to 816,000 shares, or 11.3 pct of the total outstanding\n",
      "common stock, from 453,300 shares, or 6.3 pct.\n",
      "    In a filing with the Securities and Exchange Commission,\n",
      "Industrial Equity, which is principally owned by Brierley\n",
      "Investments Ltd, a publicly held New Zealand company, said it\n",
      "bought 362,700 Wrather common shares between Feb 13 and 24 for\n",
      "6.6 mln dlrs.\n",
      "    When it first disclosed its stake in Wrather earlier this\n",
      "month, it said it bought the stock for investment purposes.\n",
      " Reuter\n",
      "\n"
     ]
    }
   ],
   "source": [
    "with open(os.path.join('/Users/mohammedhussain/Desktop/UCHICAGO assigments/NLP/asssignment 3/Assignment 3 Articles/', 'article31.txt')) as f:\n",
    "    print(f.read())\n",
    "    \n",
    "with open(os.path.join('/Users/mohammedhussain/Desktop/UCHICAGO assigments/NLP/asssignment 3/Assignment 3 Articles/', 'article28.txt')) as f:\n",
    "    print(f.read())"
   ]
  },
  {
   "cell_type": "markdown",
   "metadata": {},
   "source": [
    "We see almost NO similarity between these article 31 and 28 except for like few words here and there as predicted by our n-grams model."
   ]
  },
  {
   "cell_type": "markdown",
   "metadata": {},
   "source": [
    "# Articles measuring Dissimilarity or Dissimilar Articles"
   ]
  },
  {
   "cell_type": "markdown",
   "metadata": {},
   "source": [
    "we chose here 0.00711 as a threshold to find the dissimilar articles although our N-grams value is 3 for dealing with articles because we want to find the documents that are extremely dissimilar on the other end of the spectrum. At 0.012 corresponding to the value of the 3 in 'N-grams' , we will only find the documents are on the verge of being similar and also dissimilar. Hence a threshold value of 0.00711 is chosen to find dissimilar articles."
   ]
  },
  {
   "cell_type": "code",
   "execution_count": 39,
   "metadata": {},
   "outputs": [
    {
     "data": {
      "text/plain": [
       "0.07833355287732437"
      ]
     },
     "execution_count": 39,
     "metadata": {},
     "output_type": "execute_result"
    }
   ],
   "source": [
    "by[17]"
   ]
  },
  {
   "cell_type": "code",
   "execution_count": 40,
   "metadata": {},
   "outputs": [
    {
     "data": {
      "text/plain": [
       "0.1592294039682459"
      ]
     },
     "execution_count": 40,
     "metadata": {},
     "output_type": "execute_result"
    }
   ],
   "source": [
    "by[3]"
   ]
  },
  {
   "cell_type": "code",
   "execution_count": 41,
   "metadata": {},
   "outputs": [
    {
     "name": "stdout",
     "output_type": "stream",
     "text": [
      "article26.txt is disimilar to article21.txt with a Similarity Index of 0.763%\n",
      "article25.txt is disimilar to article37.txt with a Similarity Index of 0.769%\n",
      "article30.txt is disimilar to article37.txt with a Similarity Index of 0.833%\n",
      "article22.txt is disimilar to article5.txt with a Similarity Index of 0.922%\n",
      "article22.txt is disimilar to article37.txt with a Similarity Index of 0.939%\n",
      "article30.txt is disimilar to article26.txt with a Similarity Index of 1.010%\n",
      "article26.txt is disimilar to article36.txt with a Similarity Index of 1.136%\n",
      "article30.txt is disimilar to article25.txt with a Similarity Index of 1.266%\n",
      "article8.txt is disimilar to article14.txt with a Similarity Index of 1.277%\n",
      "article11.txt is disimilar to article10.txt with a Similarity Index of 1.301%\n",
      "article4.txt is disimilar to article1.txt with a Similarity Index of 1.307%\n",
      "article1.txt is disimilar to article3.txt with a Similarity Index of 1.429%\n",
      "article37.txt is disimilar to article21.txt with a Similarity Index of 1.786%\n",
      "article36.txt is disimilar to article35.txt with a Similarity Index of 1.887%\n",
      "article23.txt is disimilar to article35.txt with a Similarity Index of 1.961%\n",
      "article31.txt is disimilar to article32.txt with a Similarity Index of 2.151%\n",
      "article30.txt is disimilar to article21.txt with a Similarity Index of 2.183%\n",
      "article26.txt is disimilar to article32.txt with a Similarity Index of 2.597%\n",
      "article32.txt is disimilar to article28.txt with a Similarity Index of 2.778%\n",
      "article18.txt is disimilar to article4.txt with a Similarity Index of 2.857%\n",
      "article10.txt is disimilar to article14.txt with a Similarity Index of 3.052%\n",
      "article18.txt is disimilar to article3.txt with a Similarity Index of 3.150%\n",
      "article18.txt is disimilar to article1.txt with a Similarity Index of 3.681%\n",
      "article10.txt is disimilar to article6.txt with a Similarity Index of 6.166%\n",
      "article31.txt is disimilar to article26.txt with a Similarity Index of 8.000%\n",
      "article14.txt is disimilar to article6.txt with a Similarity Index of 8.135%\n",
      "article31.txt is disimilar to article28.txt with a Similarity Index of 8.621%\n",
      "article26.txt is disimilar to article28.txt with a Similarity Index of 9.790%\n",
      "article4.txt is disimilar to article3.txt with a Similarity Index of 13.592%\n",
      "article10.txt is disimilar to article13.txt with a Similarity Index of 21.798%\n",
      "article17.txt is disimilar to article16.txt with a Similarity Index of 72.589%\n"
     ]
    }
   ],
   "source": [
    "articles_comparison_reverse = compare_files('/Users/mohammedhussain/Desktop/UCHICAGO assigments/NLP/asssignment 3/Assignment 3 Articles/',ngram_size=3,threshold=0.00711)\n",
    "\n",
    "for k,v in sorted(articles_comparison_reverse.items() , key = lambda kv:kv[1],reverse = False):\n",
    "    art1, art2 = k.split(',')\n",
    "    dissimilarity_index_articles = v\n",
    "    print (str(art1) + \" is disimilar to \" + str(art2) + \n",
    "           \" with a Similarity Index of \" + '{percent:.3%}'.format(percent=dissimilarity_index_articles))"
   ]
  },
  {
   "cell_type": "code",
   "execution_count": 42,
   "metadata": {},
   "outputs": [
    {
     "data": {
      "text/plain": [
       "{'article8.txt,article14.txt': 0.01276595744680851,\n",
       " 'article18.txt,article4.txt': 0.02857142857142857,\n",
       " 'article18.txt,article1.txt': 0.03680981595092025,\n",
       " 'article18.txt,article3.txt': 0.031496062992125984,\n",
       " 'article30.txt,article25.txt': 0.012658227848101266,\n",
       " 'article30.txt,article26.txt': 0.010101010101010102,\n",
       " 'article30.txt,article37.txt': 0.008333333333333333,\n",
       " 'article30.txt,article21.txt': 0.021834061135371178,\n",
       " 'article31.txt,article26.txt': 0.08,\n",
       " 'article31.txt,article32.txt': 0.021505376344086023,\n",
       " 'article31.txt,article28.txt': 0.08620689655172414,\n",
       " 'article25.txt,article37.txt': 0.007692307692307693,\n",
       " 'article26.txt,article32.txt': 0.025974025974025976,\n",
       " 'article26.txt,article36.txt': 0.011363636363636364,\n",
       " 'article26.txt,article21.txt': 0.007633587786259542,\n",
       " 'article26.txt,article28.txt': 0.0979020979020979,\n",
       " 'article32.txt,article28.txt': 0.027777777777777776,\n",
       " 'article36.txt,article35.txt': 0.018867924528301886,\n",
       " 'article22.txt,article37.txt': 0.009389671361502348,\n",
       " 'article22.txt,article5.txt': 0.009216589861751152,\n",
       " 'article23.txt,article35.txt': 0.0196078431372549,\n",
       " 'article37.txt,article21.txt': 0.017857142857142856,\n",
       " 'article11.txt,article10.txt': 0.01300578034682081,\n",
       " 'article10.txt,article13.txt': 0.21798365122615804,\n",
       " 'article10.txt,article14.txt': 0.03051643192488263,\n",
       " 'article10.txt,article6.txt': 0.06166219839142091,\n",
       " 'article17.txt,article16.txt': 0.7258883248730964,\n",
       " 'article14.txt,article6.txt': 0.08134920634920635,\n",
       " 'article4.txt,article1.txt': 0.013071895424836602,\n",
       " 'article4.txt,article3.txt': 0.13592233009708737,\n",
       " 'article1.txt,article3.txt': 0.014285714285714285}"
      ]
     },
     "execution_count": 42,
     "metadata": {},
     "output_type": "execute_result"
    }
   ],
   "source": [
    "article_dissimilar_n3 = compare_files('/Users/mohammedhussain/Desktop/UCHICAGO assigments/NLP/asssignment 3/Assignment 3 Articles/', ngram_size=3,threshold=0.00711)\n",
    "article_dissimilar_n3"
   ]
  },
  {
   "cell_type": "code",
   "execution_count": 43,
   "metadata": {},
   "outputs": [
    {
     "data": {
      "text/html": [
       "<div>\n",
       "<style scoped>\n",
       "    .dataframe tbody tr th:only-of-type {\n",
       "        vertical-align: middle;\n",
       "    }\n",
       "\n",
       "    .dataframe tbody tr th {\n",
       "        vertical-align: top;\n",
       "    }\n",
       "\n",
       "    .dataframe thead th {\n",
       "        text-align: right;\n",
       "    }\n",
       "</style>\n",
       "<table border=\"1\" class=\"dataframe\">\n",
       "  <thead>\n",
       "    <tr style=\"text-align: right;\">\n",
       "      <th></th>\n",
       "      <th>compare</th>\n",
       "      <th>Dissimilarity</th>\n",
       "    </tr>\n",
       "  </thead>\n",
       "  <tbody>\n",
       "    <tr>\n",
       "      <td>14</td>\n",
       "      <td>article26.txt,article21.txt</td>\n",
       "      <td>0.007634</td>\n",
       "    </tr>\n",
       "    <tr>\n",
       "      <td>11</td>\n",
       "      <td>article25.txt,article37.txt</td>\n",
       "      <td>0.007692</td>\n",
       "    </tr>\n",
       "    <tr>\n",
       "      <td>6</td>\n",
       "      <td>article30.txt,article37.txt</td>\n",
       "      <td>0.008333</td>\n",
       "    </tr>\n",
       "    <tr>\n",
       "      <td>19</td>\n",
       "      <td>article22.txt,article5.txt</td>\n",
       "      <td>0.009217</td>\n",
       "    </tr>\n",
       "    <tr>\n",
       "      <td>18</td>\n",
       "      <td>article22.txt,article37.txt</td>\n",
       "      <td>0.009390</td>\n",
       "    </tr>\n",
       "  </tbody>\n",
       "</table>\n",
       "</div>"
      ],
      "text/plain": [
       "                        compare  Dissimilarity\n",
       "14  article26.txt,article21.txt       0.007634\n",
       "11  article25.txt,article37.txt       0.007692\n",
       "6   article30.txt,article37.txt       0.008333\n",
       "19   article22.txt,article5.txt       0.009217\n",
       "18  article22.txt,article37.txt       0.009390"
      ]
     },
     "execution_count": 43,
     "metadata": {},
     "output_type": "execute_result"
    }
   ],
   "source": [
    "df_dissimilar = pd.DataFrame({'compare':list(article_dissimilar_n3.keys()), 'Dissimilarity':list(article_dissimilar_n3.values())})\n",
    "df_dissimilar.sort_values('Dissimilarity', ascending=True).head(5)"
   ]
  },
  {
   "cell_type": "markdown",
   "metadata": {},
   "source": [
    "It looks like article 26 and article 21 are the most dissimilar. We can only validate that result by looking  at the raw text"
   ]
  },
  {
   "cell_type": "code",
   "execution_count": 44,
   "metadata": {},
   "outputs": [
    {
     "name": "stdout",
     "output_type": "stream",
     "text": [
      "A group of affiliated New York\n",
      "investment firms said they lowered their stake in Cyclops Corp\n",
      "to 260,500 shares, or 6.4 pct of the total outstanding common\n",
      "stock, from 370,500 shares, or 9.2 pct.\n",
      "    In a filing with the Securities and Exchange Commission,\n",
      "the group, led by Mutual Shares Corp, said it sold 110,000\n",
      "Cyclops common shares on Feb 17 and 19 for 10.0 mln dlrs.\n",
      " Reuter\n",
      "\n",
      "Computer Terminal Systems Inc said\n",
      "it has completed the sale of 200,000 shares of its common\n",
      "stock, and warrants to acquire an additional one mln shares, to\n",
      "<Sedio N.V.> of Lugano, Switzerland for 50,000 dlrs.\n",
      "    The company said the warrants are exercisable for five\n",
      "years at a purchase price of .125 dlrs per share.\n",
      "    Computer Terminal said Sedio also has the right to buy\n",
      "additional shares and increase its total holdings up to 40 pct\n",
      "of the Computer Terminal's outstanding common stock under\n",
      "certain circumstances involving change of control at the\n",
      "company.\n",
      "    The company said if the conditions occur the warrants would\n",
      "be exercisable at a price equal to 75 pct of its common stock's\n",
      "market price at the time, not to exceed 1.50 dlrs per share.\n",
      "    Computer Terminal also said it sold the technolgy rights to\n",
      "its Dot Matrix impact technology, including any future\n",
      "improvements, to <Woodco Inc> of Houston, Tex. for 200,000\n",
      "dlrs. But, it said it would continue to be the exclusive\n",
      "worldwide licensee of the technology for Woodco.\n",
      "    The company said the moves were part of its reorganization\n",
      "plan and would help pay current operation costs and ensure\n",
      "product delivery.\n",
      "    Computer Terminal makes computer generated labels, forms,\n",
      "tags and ticket printers and terminals.\n",
      " Reuter\n",
      "\n"
     ]
    }
   ],
   "source": [
    "\n",
    "with open(os.path.join('/Users/mohammedhussain/Desktop/UCHICAGO assigments/NLP/asssignment 3/Assignment 3 Articles/', 'article26.txt')) as f:\n",
    "    print(f.read())\n",
    "    \n",
    "with open(os.path.join('/Users/mohammedhussain/Desktop/UCHICAGO assigments/NLP/asssignment 3/Assignment 3 Articles/', 'article21.txt')) as f:\n",
    "    print(f.read())"
   ]
  },
  {
   "cell_type": "markdown",
   "metadata": {},
   "source": [
    "We see absolutely no similarity between the articles of 26 and 21, so our N-grams model has yielded accurate results"
   ]
  }
 ],
 "metadata": {
  "kernelspec": {
   "display_name": "Python 3",
   "language": "python",
   "name": "python3"
  },
  "language_info": {
   "codemirror_mode": {
    "name": "ipython",
    "version": 3
   },
   "file_extension": ".py",
   "mimetype": "text/x-python",
   "name": "python",
   "nbconvert_exporter": "python",
   "pygments_lexer": "ipython3",
   "version": "3.7.4"
  }
 },
 "nbformat": 4,
 "nbformat_minor": 2
}
